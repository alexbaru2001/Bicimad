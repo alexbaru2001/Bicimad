{
 "cells": [
  {
   "cell_type": "code",
   "execution_count": 122,
   "id": "9d79a57f",
   "metadata": {},
   "outputs": [
    {
     "ename": "ModuleNotFoundError",
     "evalue": "No module named 'ggplot'",
     "output_type": "error",
     "traceback": [
      "\u001b[1;31m---------------------------------------------------------------------------\u001b[0m",
      "\u001b[1;31mModuleNotFoundError\u001b[0m                       Traceback (most recent call last)",
      "Cell \u001b[1;32mIn[122], line 16\u001b[0m\n\u001b[0;32m     14\u001b[0m \u001b[38;5;28;01mimport\u001b[39;00m \u001b[38;5;21;01mstreamlit\u001b[39;00m \u001b[38;5;28;01mas\u001b[39;00m \u001b[38;5;21;01mst\u001b[39;00m \n\u001b[0;32m     15\u001b[0m \u001b[38;5;28;01mfrom\u001b[39;00m \u001b[38;5;21;01mplotnine\u001b[39;00m \u001b[38;5;28;01mimport\u001b[39;00m \u001b[38;5;241m*\u001b[39m\n\u001b[1;32m---> 16\u001b[0m \u001b[38;5;28;01mfrom\u001b[39;00m \u001b[38;5;21;01mggplot\u001b[39;00m \u001b[38;5;28;01mimport\u001b[39;00m\u001b[38;5;241m*\u001b[39m\n",
      "\u001b[1;31mModuleNotFoundError\u001b[0m: No module named 'ggplot'"
     ]
    }
   ],
   "source": [
    "import json\n",
    "import numpy as np\n",
    "import pandas as pd\n",
    "import geopandas as gpd\n",
    "import folium\n",
    "from folium.plugins import MarkerCluster\n",
    "import matplotlib.pyplot as plt\n",
    "from shapely.geometry import Point, Polygon, shape\n",
    "from shapely import ops\n",
    "import pyproj\n",
    "import plotly.express as px\n",
    "from streamlit_folium import st_folium\n",
    "import plotly.express as px\n",
    "import streamlit as st \n",
    "from plotnine import *"
   ]
  },
  {
   "cell_type": "code",
   "execution_count": 48,
   "id": "4be9fd80",
   "metadata": {},
   "outputs": [],
   "source": [
    "def cargar_ficheros(fichero):\n",
    "    if 'zip' in fichero:\n",
    "        shp_path = fichero\n",
    "\n",
    "        # Carga el archivo SHP en un GeoDataFrame\n",
    "        gdf = gpd.read_file(shp_path)\n",
    "        return gdf\n",
    "    elif '.json' in fichero:\n",
    "        with open(fichero, 'r') as file:\n",
    "            json_data = file.read()\n",
    "        # Cargar el JSON en un diccionario\n",
    "        data_dict = json.loads(json_data)\n",
    "        \n",
    "        # Obtener la lista 'data' del diccionario\n",
    "        data_list = data_dict.get('data', [])\n",
    "        \n",
    "        # Crear un DataFrame de Pandas con la lista 'data'\n",
    "        df = pd.DataFrame(data_list)\n",
    "        return df\n",
    "    else:\n",
    "        distritos_table=pd.read_csv('Data\\\\distritos.csv')\n",
    "        distritos_table['numero']=distritos_table['numero'].astype(str)\n",
    "        return distritos_table\n",
    "\n",
    "\n",
    "df=cargar_ficheros('Data\\\\response.json')\n",
    "gdf=cargar_ficheros('Data\\\\Distritos.zip')\n",
    "distritos_scrapper=cargar_ficheros('Data\\\\distritos.csv')"
   ]
  },
  {
   "cell_type": "code",
   "execution_count": 49,
   "id": "892c3a69",
   "metadata": {},
   "outputs": [],
   "source": [
    "def modificar_col_geometry(df,añadir_geometry_inverted=False):\n",
    "    if añadir_geometry_inverted:\n",
    "        df['geometry_inverted'] = df['geometry'].apply(lambda x: Point(x['coordinates'][0],x['coordinates'][1]))\n",
    "        df['geometry'] = df['geometry'].apply(lambda x: Point(x['coordinates'][1],x['coordinates'][0]))\n",
    "        df['distrito']=None\n",
    "    else:\n",
    "        df['latitud'] = df['geometry'].apply(lambda x: x['coordinates'][1])\n",
    "        df['longitud'] = df['geometry'].apply(lambda x: x['coordinates'][0])\n",
    "        df['geometry'] = df['geometry'].apply(lambda x: x['type'])\n",
    "    return df"
   ]
  },
  {
   "cell_type": "code",
   "execution_count": 50,
   "id": "f0fe46fe",
   "metadata": {},
   "outputs": [],
   "source": [
    "def cambio_proyeccion(poly):\n",
    "    poly_crs = pyproj.CRS(\"EPSG:25830\")\n",
    "    poly = ops.transform(lambda x, y: pyproj.Transformer.from_crs(poly_crs, pyproj.CRS(\"EPSG:4326\"), always_xy=True).transform(x,y), poly)\n",
    "    return poly\n"
   ]
  },
  {
   "cell_type": "code",
   "execution_count": 51,
   "id": "198ca25f",
   "metadata": {},
   "outputs": [],
   "source": [
    "def estaciones_con_distrito(df,gdf):\n",
    "    df=modificar_col_geometry(df,True)   \n",
    "    gdf=gdf.assign(changes=gdf['geometry'])\n",
    "    gdf['changes']=gdf['changes'].apply(cambio_proyeccion)    \n",
    "    \n",
    "    def identificar_distrito(estacion):\n",
    "        al_reves = gdf['changes'].contains(estacion)\n",
    "        esta = gdf['NOMBRE'].loc[al_reves]\n",
    "        return esta.iloc[0] \n",
    "\n",
    "    df['distrito']=df['geometry_inverted'].apply(identificar_distrito)\n",
    "    gdf=gdf.iloc[:, :-1]\n",
    "    df_con_distrito=df\n",
    "    return df_con_distrito"
   ]
  },
  {
   "cell_type": "code",
   "execution_count": 52,
   "id": "90bfe879",
   "metadata": {},
   "outputs": [],
   "source": [
    "def modificar_gdf(gdf,df_estaciones_por_distrito):\n",
    "    gdf_con_estaciones=gdf.merge(df_estaciones_por_distrito,left_on='NOMBRE', right_on='distrito',how='left')\n",
    "    gdf_con_estaciones['COD_DIS_TX']=gdf_con_estaciones['count']\n",
    "    gdf_con_estaciones=gdf_con_estaciones.iloc[:, :-2]\n",
    "    gdf_con_estaciones = gdf_con_estaciones.rename(columns={'COD_DIS_TX': 'Estaciones'})\n",
    "    return gdf_con_estaciones"
   ]
  },
  {
   "cell_type": "code",
   "execution_count": 53,
   "id": "1bd32aad",
   "metadata": {},
   "outputs": [],
   "source": [
    "df_distrito=estaciones_con_distrito(df,gdf)"
   ]
  },
  {
   "cell_type": "code",
   "execution_count": 54,
   "id": "8ddb220b",
   "metadata": {},
   "outputs": [],
   "source": [
    "bicis_distrito=df_distrito.groupby('distrito')[['distrito','total_bases']].sum('total_bases').reset_index().rename(columns={'total_bases': 'count'})"
   ]
  },
  {
   "cell_type": "code",
   "execution_count": null,
   "id": "322d85dc",
   "metadata": {},
   "outputs": [],
   "source": [
    "\n"
   ]
  },
  {
   "cell_type": "code",
   "execution_count": 55,
   "id": "ee35c009",
   "metadata": {},
   "outputs": [],
   "source": [
    "gdf_con_estaciones=modificar_gdf(gdf,bicis_distrito)"
   ]
  },
  {
   "cell_type": "code",
   "execution_count": 56,
   "id": "1bedee8b",
   "metadata": {},
   "outputs": [],
   "source": [
    "gdf_distritos=gdf_con_estaciones.rename(columns={'Estaciones': 'bicis'})[['COD_DIS','bicis','NOMBRE']]"
   ]
  },
  {
   "cell_type": "code",
   "execution_count": 57,
   "id": "818797c2",
   "metadata": {},
   "outputs": [
    {
     "data": {
      "text/html": [
       "<div>\n",
       "<style scoped>\n",
       "    .dataframe tbody tr th:only-of-type {\n",
       "        vertical-align: middle;\n",
       "    }\n",
       "\n",
       "    .dataframe tbody tr th {\n",
       "        vertical-align: top;\n",
       "    }\n",
       "\n",
       "    .dataframe thead th {\n",
       "        text-align: right;\n",
       "    }\n",
       "</style>\n",
       "<table border=\"1\" class=\"dataframe\">\n",
       "  <thead>\n",
       "    <tr style=\"text-align: right;\">\n",
       "      <th></th>\n",
       "      <th>COD_DIS</th>\n",
       "      <th>bicis</th>\n",
       "      <th>NOMBRE</th>\n",
       "    </tr>\n",
       "  </thead>\n",
       "  <tbody>\n",
       "    <tr>\n",
       "      <th>0</th>\n",
       "      <td>1</td>\n",
       "      <td>1395</td>\n",
       "      <td>Centro</td>\n",
       "    </tr>\n",
       "    <tr>\n",
       "      <th>1</th>\n",
       "      <td>10</td>\n",
       "      <td>740</td>\n",
       "      <td>Latina</td>\n",
       "    </tr>\n",
       "    <tr>\n",
       "      <th>2</th>\n",
       "      <td>11</td>\n",
       "      <td>822</td>\n",
       "      <td>Carabanchel</td>\n",
       "    </tr>\n",
       "    <tr>\n",
       "      <th>3</th>\n",
       "      <td>12</td>\n",
       "      <td>396</td>\n",
       "      <td>Usera</td>\n",
       "    </tr>\n",
       "    <tr>\n",
       "      <th>4</th>\n",
       "      <td>13</td>\n",
       "      <td>608</td>\n",
       "      <td>Puente de Vallecas</td>\n",
       "    </tr>\n",
       "    <tr>\n",
       "      <th>5</th>\n",
       "      <td>14</td>\n",
       "      <td>255</td>\n",
       "      <td>Moratalaz</td>\n",
       "    </tr>\n",
       "    <tr>\n",
       "      <th>6</th>\n",
       "      <td>15</td>\n",
       "      <td>735</td>\n",
       "      <td>Ciudad Lineal</td>\n",
       "    </tr>\n",
       "    <tr>\n",
       "      <th>7</th>\n",
       "      <td>16</td>\n",
       "      <td>740</td>\n",
       "      <td>Hortaleza</td>\n",
       "    </tr>\n",
       "    <tr>\n",
       "      <th>8</th>\n",
       "      <td>17</td>\n",
       "      <td>436</td>\n",
       "      <td>Villaverde</td>\n",
       "    </tr>\n",
       "    <tr>\n",
       "      <th>9</th>\n",
       "      <td>18</td>\n",
       "      <td>453</td>\n",
       "      <td>Villa de Vallecas</td>\n",
       "    </tr>\n",
       "    <tr>\n",
       "      <th>10</th>\n",
       "      <td>19</td>\n",
       "      <td>333</td>\n",
       "      <td>Vicálvaro</td>\n",
       "    </tr>\n",
       "    <tr>\n",
       "      <th>11</th>\n",
       "      <td>2</td>\n",
       "      <td>935</td>\n",
       "      <td>Arganzuela</td>\n",
       "    </tr>\n",
       "    <tr>\n",
       "      <th>12</th>\n",
       "      <td>20</td>\n",
       "      <td>661</td>\n",
       "      <td>San Blas - Canillejas</td>\n",
       "    </tr>\n",
       "    <tr>\n",
       "      <th>13</th>\n",
       "      <td>21</td>\n",
       "      <td>393</td>\n",
       "      <td>Barajas</td>\n",
       "    </tr>\n",
       "    <tr>\n",
       "      <th>14</th>\n",
       "      <td>3</td>\n",
       "      <td>701</td>\n",
       "      <td>Retiro</td>\n",
       "    </tr>\n",
       "    <tr>\n",
       "      <th>15</th>\n",
       "      <td>4</td>\n",
       "      <td>989</td>\n",
       "      <td>Salamanca</td>\n",
       "    </tr>\n",
       "    <tr>\n",
       "      <th>16</th>\n",
       "      <td>5</td>\n",
       "      <td>832</td>\n",
       "      <td>Chamartín</td>\n",
       "    </tr>\n",
       "    <tr>\n",
       "      <th>17</th>\n",
       "      <td>6</td>\n",
       "      <td>533</td>\n",
       "      <td>Tetuán</td>\n",
       "    </tr>\n",
       "    <tr>\n",
       "      <th>18</th>\n",
       "      <td>7</td>\n",
       "      <td>700</td>\n",
       "      <td>Chamberí</td>\n",
       "    </tr>\n",
       "    <tr>\n",
       "      <th>19</th>\n",
       "      <td>8</td>\n",
       "      <td>1036</td>\n",
       "      <td>Fuencarral - El Pardo</td>\n",
       "    </tr>\n",
       "    <tr>\n",
       "      <th>20</th>\n",
       "      <td>9</td>\n",
       "      <td>778</td>\n",
       "      <td>Moncloa - Aravaca</td>\n",
       "    </tr>\n",
       "  </tbody>\n",
       "</table>\n",
       "</div>"
      ],
      "text/plain": [
       "   COD_DIS  bicis                 NOMBRE\n",
       "0        1   1395                 Centro\n",
       "1       10    740                 Latina\n",
       "2       11    822            Carabanchel\n",
       "3       12    396                  Usera\n",
       "4       13    608     Puente de Vallecas\n",
       "5       14    255              Moratalaz\n",
       "6       15    735          Ciudad Lineal\n",
       "7       16    740              Hortaleza\n",
       "8       17    436             Villaverde\n",
       "9       18    453      Villa de Vallecas\n",
       "10      19    333              Vicálvaro\n",
       "11       2    935             Arganzuela\n",
       "12      20    661  San Blas - Canillejas\n",
       "13      21    393                Barajas\n",
       "14       3    701                 Retiro\n",
       "15       4    989              Salamanca\n",
       "16       5    832              Chamartín\n",
       "17       6    533                 Tetuán\n",
       "18       7    700               Chamberí\n",
       "19       8   1036  Fuencarral - El Pardo\n",
       "20       9    778      Moncloa - Aravaca"
      ]
     },
     "execution_count": 57,
     "metadata": {},
     "output_type": "execute_result"
    }
   ],
   "source": [
    "gdf_distritos"
   ]
  },
  {
   "cell_type": "code",
   "execution_count": 58,
   "id": "2bb32f00",
   "metadata": {},
   "outputs": [
    {
     "data": {
      "text/html": [
       "<div>\n",
       "<style scoped>\n",
       "    .dataframe tbody tr th:only-of-type {\n",
       "        vertical-align: middle;\n",
       "    }\n",
       "\n",
       "    .dataframe tbody tr th {\n",
       "        vertical-align: top;\n",
       "    }\n",
       "\n",
       "    .dataframe thead th {\n",
       "        text-align: right;\n",
       "    }\n",
       "</style>\n",
       "<table border=\"1\" class=\"dataframe\">\n",
       "  <thead>\n",
       "    <tr style=\"text-align: right;\">\n",
       "      <th></th>\n",
       "      <th>numero</th>\n",
       "      <th>nombre</th>\n",
       "      <th>area</th>\n",
       "      <th>poblacion</th>\n",
       "      <th>densidad</th>\n",
       "    </tr>\n",
       "  </thead>\n",
       "  <tbody>\n",
       "    <tr>\n",
       "      <th>0</th>\n",
       "      <td>1</td>\n",
       "      <td>Centro</td>\n",
       "      <td>522.82</td>\n",
       "      <td>131928.0</td>\n",
       "      <td>252.34</td>\n",
       "    </tr>\n",
       "    <tr>\n",
       "      <th>1</th>\n",
       "      <td>2</td>\n",
       "      <td>Arganzuela</td>\n",
       "      <td>646.22</td>\n",
       "      <td>151965.0</td>\n",
       "      <td>235.16</td>\n",
       "    </tr>\n",
       "    <tr>\n",
       "      <th>2</th>\n",
       "      <td>3</td>\n",
       "      <td>Retiro</td>\n",
       "      <td>546.62</td>\n",
       "      <td>118516.0</td>\n",
       "      <td>216.82</td>\n",
       "    </tr>\n",
       "    <tr>\n",
       "      <th>3</th>\n",
       "      <td>4</td>\n",
       "      <td>Salamanca</td>\n",
       "      <td>539.24</td>\n",
       "      <td>143800.0</td>\n",
       "      <td>266.67</td>\n",
       "    </tr>\n",
       "    <tr>\n",
       "      <th>4</th>\n",
       "      <td>5</td>\n",
       "      <td>Chamartín</td>\n",
       "      <td>917.55</td>\n",
       "      <td>143422.0</td>\n",
       "      <td>156.31</td>\n",
       "    </tr>\n",
       "    <tr>\n",
       "      <th>5</th>\n",
       "      <td>6</td>\n",
       "      <td>Tetuán</td>\n",
       "      <td>537.47</td>\n",
       "      <td>153789.0</td>\n",
       "      <td>286.13</td>\n",
       "    </tr>\n",
       "    <tr>\n",
       "      <th>6</th>\n",
       "      <td>7</td>\n",
       "      <td>Chamberí</td>\n",
       "      <td>467.92</td>\n",
       "      <td>137401.0</td>\n",
       "      <td>293.64</td>\n",
       "    </tr>\n",
       "    <tr>\n",
       "      <th>7</th>\n",
       "      <td>8</td>\n",
       "      <td>Fuencarral-El Pardo</td>\n",
       "      <td>23783.84</td>\n",
       "      <td>238756.0</td>\n",
       "      <td>10.04</td>\n",
       "    </tr>\n",
       "    <tr>\n",
       "      <th>8</th>\n",
       "      <td>9</td>\n",
       "      <td>Moncloa-Aravaca</td>\n",
       "      <td>4653.11</td>\n",
       "      <td>116903.0</td>\n",
       "      <td>25.12</td>\n",
       "    </tr>\n",
       "    <tr>\n",
       "      <th>9</th>\n",
       "      <td>10</td>\n",
       "      <td>Latina</td>\n",
       "      <td>2542.72</td>\n",
       "      <td>233808.0</td>\n",
       "      <td>91.95</td>\n",
       "    </tr>\n",
       "    <tr>\n",
       "      <th>10</th>\n",
       "      <td>11</td>\n",
       "      <td>Carabanchel</td>\n",
       "      <td>1404.83</td>\n",
       "      <td>243998.0</td>\n",
       "      <td>173.68</td>\n",
       "    </tr>\n",
       "    <tr>\n",
       "      <th>11</th>\n",
       "      <td>12</td>\n",
       "      <td>Usera</td>\n",
       "      <td>777.77</td>\n",
       "      <td>134791.0</td>\n",
       "      <td>173.30</td>\n",
       "    </tr>\n",
       "    <tr>\n",
       "      <th>12</th>\n",
       "      <td>13</td>\n",
       "      <td>Puente de Vallecas</td>\n",
       "      <td>1496.86</td>\n",
       "      <td>227595.0</td>\n",
       "      <td>152.05</td>\n",
       "    </tr>\n",
       "    <tr>\n",
       "      <th>13</th>\n",
       "      <td>14</td>\n",
       "      <td>Moratalaz</td>\n",
       "      <td>610.32</td>\n",
       "      <td>94197.0</td>\n",
       "      <td>154.34</td>\n",
       "    </tr>\n",
       "    <tr>\n",
       "      <th>14</th>\n",
       "      <td>15</td>\n",
       "      <td>Ciudad Lineal</td>\n",
       "      <td>1142.57</td>\n",
       "      <td>212529.0</td>\n",
       "      <td>186.01</td>\n",
       "    </tr>\n",
       "    <tr>\n",
       "      <th>15</th>\n",
       "      <td>16</td>\n",
       "      <td>Hortaleza</td>\n",
       "      <td>2741.98</td>\n",
       "      <td>180462.0</td>\n",
       "      <td>65.81</td>\n",
       "    </tr>\n",
       "    <tr>\n",
       "      <th>16</th>\n",
       "      <td>17</td>\n",
       "      <td>Villaverde</td>\n",
       "      <td>2018.76</td>\n",
       "      <td>142608.0</td>\n",
       "      <td>70.64</td>\n",
       "    </tr>\n",
       "    <tr>\n",
       "      <th>17</th>\n",
       "      <td>18</td>\n",
       "      <td>Villa de Vallecas</td>\n",
       "      <td>5146.72</td>\n",
       "      <td>104421.0</td>\n",
       "      <td>20.29</td>\n",
       "    </tr>\n",
       "    <tr>\n",
       "      <th>18</th>\n",
       "      <td>19</td>\n",
       "      <td>Vicálvaro</td>\n",
       "      <td>3526.67</td>\n",
       "      <td>70051.0</td>\n",
       "      <td>19.86</td>\n",
       "    </tr>\n",
       "    <tr>\n",
       "      <th>19</th>\n",
       "      <td>20</td>\n",
       "      <td>San Blas-Canillejas</td>\n",
       "      <td>2229.24</td>\n",
       "      <td>154357.0</td>\n",
       "      <td>69.24</td>\n",
       "    </tr>\n",
       "    <tr>\n",
       "      <th>20</th>\n",
       "      <td>21</td>\n",
       "      <td>Barajas</td>\n",
       "      <td>4192.28</td>\n",
       "      <td>46876.0</td>\n",
       "      <td>11.18</td>\n",
       "    </tr>\n",
       "    <tr>\n",
       "      <th>21</th>\n",
       "      <td>32</td>\n",
       "      <td>TOTAL</td>\n",
       "      <td>60445.51</td>\n",
       "      <td>3182175.0</td>\n",
       "      <td>52.65</td>\n",
       "    </tr>\n",
       "  </tbody>\n",
       "</table>\n",
       "</div>"
      ],
      "text/plain": [
       "   numero               nombre      area  poblacion  densidad\n",
       "0       1               Centro    522.82   131928.0    252.34\n",
       "1       2           Arganzuela    646.22   151965.0    235.16\n",
       "2       3               Retiro    546.62   118516.0    216.82\n",
       "3       4            Salamanca    539.24   143800.0    266.67\n",
       "4       5            Chamartín    917.55   143422.0    156.31\n",
       "5       6               Tetuán    537.47   153789.0    286.13\n",
       "6       7             Chamberí    467.92   137401.0    293.64\n",
       "7       8  Fuencarral-El Pardo  23783.84   238756.0     10.04\n",
       "8       9      Moncloa-Aravaca   4653.11   116903.0     25.12\n",
       "9      10               Latina   2542.72   233808.0     91.95\n",
       "10     11          Carabanchel   1404.83   243998.0    173.68\n",
       "11     12                Usera    777.77   134791.0    173.30\n",
       "12     13   Puente de Vallecas   1496.86   227595.0    152.05\n",
       "13     14            Moratalaz    610.32    94197.0    154.34\n",
       "14     15        Ciudad Lineal   1142.57   212529.0    186.01\n",
       "15     16            Hortaleza   2741.98   180462.0     65.81\n",
       "16     17           Villaverde   2018.76   142608.0     70.64\n",
       "17     18    Villa de Vallecas   5146.72   104421.0     20.29\n",
       "18     19            Vicálvaro   3526.67    70051.0     19.86\n",
       "19     20  San Blas-Canillejas   2229.24   154357.0     69.24\n",
       "20     21              Barajas   4192.28    46876.0     11.18\n",
       "21     32                TOTAL  60445.51  3182175.0     52.65"
      ]
     },
     "execution_count": 58,
     "metadata": {},
     "output_type": "execute_result"
    }
   ],
   "source": [
    "distritos_scrapper"
   ]
  },
  {
   "cell_type": "code",
   "execution_count": 59,
   "id": "91d590d8",
   "metadata": {},
   "outputs": [],
   "source": [
    "df_con_scrapper=distritos_scrapper.merge(gdf_distritos, left_on='numero', right_on='COD_DIS')[['nombre','area','poblacion','densidad','bicis']]"
   ]
  },
  {
   "cell_type": "markdown",
   "id": "bcbd2a27",
   "metadata": {},
   "source": [
    "¿Cual es el distrito con más bicis por persona?¿Y el que menos?"
   ]
  },
  {
   "cell_type": "markdown",
   "id": "9fdaacc9",
   "metadata": {},
   "source": [
    "¿Cual es el distrito con mas bicis por metro cuadrado?¿Y el que menos?"
   ]
  },
  {
   "cell_type": "code",
   "execution_count": 60,
   "id": "2d2a6587",
   "metadata": {},
   "outputs": [],
   "source": [
    "df_con_scrapper['personas por bici']=df_con_scrapper['poblacion']/df_con_scrapper['bicis']"
   ]
  },
  {
   "cell_type": "code",
   "execution_count": 61,
   "id": "d45bbe10",
   "metadata": {},
   "outputs": [
    {
     "data": {
      "text/html": [
       "<div>\n",
       "<style scoped>\n",
       "    .dataframe tbody tr th:only-of-type {\n",
       "        vertical-align: middle;\n",
       "    }\n",
       "\n",
       "    .dataframe tbody tr th {\n",
       "        vertical-align: top;\n",
       "    }\n",
       "\n",
       "    .dataframe thead th {\n",
       "        text-align: right;\n",
       "    }\n",
       "</style>\n",
       "<table border=\"1\" class=\"dataframe\">\n",
       "  <thead>\n",
       "    <tr style=\"text-align: right;\">\n",
       "      <th></th>\n",
       "      <th>nombre</th>\n",
       "      <th>area</th>\n",
       "      <th>poblacion</th>\n",
       "      <th>densidad</th>\n",
       "      <th>bicis</th>\n",
       "      <th>personas por bici</th>\n",
       "    </tr>\n",
       "  </thead>\n",
       "  <tbody>\n",
       "    <tr>\n",
       "      <th>0</th>\n",
       "      <td>Centro</td>\n",
       "      <td>522.82</td>\n",
       "      <td>131928.0</td>\n",
       "      <td>252.34</td>\n",
       "      <td>1395</td>\n",
       "      <td>94.572043</td>\n",
       "    </tr>\n",
       "    <tr>\n",
       "      <th>20</th>\n",
       "      <td>Barajas</td>\n",
       "      <td>4192.28</td>\n",
       "      <td>46876.0</td>\n",
       "      <td>11.18</td>\n",
       "      <td>393</td>\n",
       "      <td>119.277354</td>\n",
       "    </tr>\n",
       "    <tr>\n",
       "      <th>3</th>\n",
       "      <td>Salamanca</td>\n",
       "      <td>539.24</td>\n",
       "      <td>143800.0</td>\n",
       "      <td>266.67</td>\n",
       "      <td>989</td>\n",
       "      <td>145.399393</td>\n",
       "    </tr>\n",
       "    <tr>\n",
       "      <th>8</th>\n",
       "      <td>Moncloa-Aravaca</td>\n",
       "      <td>4653.11</td>\n",
       "      <td>116903.0</td>\n",
       "      <td>25.12</td>\n",
       "      <td>778</td>\n",
       "      <td>150.260925</td>\n",
       "    </tr>\n",
       "    <tr>\n",
       "      <th>1</th>\n",
       "      <td>Arganzuela</td>\n",
       "      <td>646.22</td>\n",
       "      <td>151965.0</td>\n",
       "      <td>235.16</td>\n",
       "      <td>935</td>\n",
       "      <td>162.529412</td>\n",
       "    </tr>\n",
       "  </tbody>\n",
       "</table>\n",
       "</div>"
      ],
      "text/plain": [
       "             nombre     area  poblacion  densidad  bicis  personas por bici\n",
       "0            Centro   522.82   131928.0    252.34   1395          94.572043\n",
       "20          Barajas  4192.28    46876.0     11.18    393         119.277354\n",
       "3         Salamanca   539.24   143800.0    266.67    989         145.399393\n",
       "8   Moncloa-Aravaca  4653.11   116903.0     25.12    778         150.260925\n",
       "1        Arganzuela   646.22   151965.0    235.16    935         162.529412"
      ]
     },
     "execution_count": 61,
     "metadata": {},
     "output_type": "execute_result"
    }
   ],
   "source": [
    "df_con_scrapper.sort_values(by='personas por bici').head(5)"
   ]
  },
  {
   "cell_type": "code",
   "execution_count": 142,
   "id": "51d149cb",
   "metadata": {},
   "outputs": [
    {
     "data": {
      "application/vnd.plotly.v1+json": {
       "config": {
        "plotlyServerURL": "https://plot.ly"
       },
       "data": [
        {
         "alignmentgroup": "True",
         "hovertemplate": "Distrito=%{x}<br>personas por bici=%{y}<extra></extra>",
         "legendgroup": "",
         "marker": {
          "color": "#4682B4",
          "pattern": {
           "shape": ""
          }
         },
         "name": "",
         "offsetgroup": "",
         "orientation": "v",
         "showlegend": false,
         "textposition": "auto",
         "type": "bar",
         "x": [
          "Centro",
          "Arganzuela",
          "Retiro",
          "Salamanca",
          "Chamartín",
          "Tetuán",
          "Chamberí",
          "Fuencarral-El Pardo",
          "Moncloa-Aravaca",
          "Latina",
          "Carabanchel",
          "Usera",
          "Puente de Vallecas",
          "Moratalaz",
          "Ciudad Lineal",
          "Hortaleza",
          "Villaverde",
          "Villa de Vallecas",
          "Vicálvaro",
          "San Blas-Canillejas",
          "Barajas"
         ],
         "xaxis": "x",
         "y": [
          94.5720430107527,
          162.52941176470588,
          169.06704707560627,
          145.39939332659253,
          172.38221153846155,
          288.53470919324576,
          196.28714285714287,
          230.45945945945945,
          150.26092544987148,
          315.95675675675676,
          296.8345498783455,
          340.3813131313131,
          374.33388157894734,
          369.4,
          289.1551020408163,
          243.86756756756756,
          327.08256880733944,
          230.50993377483445,
          210.36336336336336,
          233.52042360060514,
          119.27735368956743
         ],
         "yaxis": "y"
        }
       ],
       "layout": {
        "barmode": "relative",
        "legend": {
         "tracegroupgap": 0
        },
        "margin": {
         "t": 60
        },
        "template": {
         "data": {
          "candlestick": [
           {
            "decreasing": {
             "line": {
              "color": "#000033"
             }
            },
            "increasing": {
             "line": {
              "color": "#000032"
             }
            },
            "type": "candlestick"
           }
          ],
          "contour": [
           {
            "colorscale": [
             [
              0,
              "#000011"
             ],
             [
              0.1111111111111111,
              "#000012"
             ],
             [
              0.2222222222222222,
              "#000013"
             ],
             [
              0.3333333333333333,
              "#000014"
             ],
             [
              0.4444444444444444,
              "#000015"
             ],
             [
              0.5555555555555556,
              "#000016"
             ],
             [
              0.6666666666666666,
              "#000017"
             ],
             [
              0.7777777777777778,
              "#000018"
             ],
             [
              0.8888888888888888,
              "#000019"
             ],
             [
              1,
              "#000020"
             ]
            ],
            "type": "contour"
           }
          ],
          "contourcarpet": [
           {
            "colorscale": [
             [
              0,
              "#000011"
             ],
             [
              0.1111111111111111,
              "#000012"
             ],
             [
              0.2222222222222222,
              "#000013"
             ],
             [
              0.3333333333333333,
              "#000014"
             ],
             [
              0.4444444444444444,
              "#000015"
             ],
             [
              0.5555555555555556,
              "#000016"
             ],
             [
              0.6666666666666666,
              "#000017"
             ],
             [
              0.7777777777777778,
              "#000018"
             ],
             [
              0.8888888888888888,
              "#000019"
             ],
             [
              1,
              "#000020"
             ]
            ],
            "type": "contourcarpet"
           }
          ],
          "heatmap": [
           {
            "colorscale": [
             [
              0,
              "#000011"
             ],
             [
              0.1111111111111111,
              "#000012"
             ],
             [
              0.2222222222222222,
              "#000013"
             ],
             [
              0.3333333333333333,
              "#000014"
             ],
             [
              0.4444444444444444,
              "#000015"
             ],
             [
              0.5555555555555556,
              "#000016"
             ],
             [
              0.6666666666666666,
              "#000017"
             ],
             [
              0.7777777777777778,
              "#000018"
             ],
             [
              0.8888888888888888,
              "#000019"
             ],
             [
              1,
              "#000020"
             ]
            ],
            "type": "heatmap"
           }
          ],
          "histogram2d": [
           {
            "colorscale": [
             [
              0,
              "#000011"
             ],
             [
              0.1111111111111111,
              "#000012"
             ],
             [
              0.2222222222222222,
              "#000013"
             ],
             [
              0.3333333333333333,
              "#000014"
             ],
             [
              0.4444444444444444,
              "#000015"
             ],
             [
              0.5555555555555556,
              "#000016"
             ],
             [
              0.6666666666666666,
              "#000017"
             ],
             [
              0.7777777777777778,
              "#000018"
             ],
             [
              0.8888888888888888,
              "#000019"
             ],
             [
              1,
              "#000020"
             ]
            ],
            "type": "histogram2d"
           }
          ],
          "icicle": [
           {
            "textfont": {
             "color": "white"
            },
            "type": "icicle"
           }
          ],
          "sankey": [
           {
            "textfont": {
             "color": "#000036"
            },
            "type": "sankey"
           }
          ],
          "scatter": [
           {
            "marker": {
             "line": {
              "width": 0
             }
            },
            "type": "scatter"
           }
          ],
          "table": [
           {
            "cells": {
             "fill": {
              "color": "#000038"
             },
             "font": {
              "color": "#000037"
             },
             "line": {
              "color": "#000039"
             }
            },
            "header": {
             "fill": {
              "color": "#000040"
             },
             "font": {
              "color": "#000036"
             },
             "line": {
              "color": "#000039"
             }
            },
            "type": "table"
           }
          ],
          "waterfall": [
           {
            "connector": {
             "line": {
              "color": "#000036",
              "width": 2
             }
            },
            "decreasing": {
             "marker": {
              "color": "#000033"
             }
            },
            "increasing": {
             "marker": {
              "color": "#000032"
             }
            },
            "totals": {
             "marker": {
              "color": "#000034"
             }
            },
            "type": "waterfall"
           }
          ]
         },
         "layout": {
          "coloraxis": {
           "colorscale": [
            [
             0,
             "#000011"
            ],
            [
             0.1111111111111111,
             "#000012"
            ],
            [
             0.2222222222222222,
             "#000013"
            ],
            [
             0.3333333333333333,
             "#000014"
            ],
            [
             0.4444444444444444,
             "#000015"
            ],
            [
             0.5555555555555556,
             "#000016"
            ],
            [
             0.6666666666666666,
             "#000017"
            ],
            [
             0.7777777777777778,
             "#000018"
            ],
            [
             0.8888888888888888,
             "#000019"
            ],
            [
             1,
             "#000020"
            ]
           ]
          },
          "colorscale": {
           "diverging": [
            [
             0,
             "#000021"
            ],
            [
             0.1,
             "#000022"
            ],
            [
             0.2,
             "#000023"
            ],
            [
             0.3,
             "#000024"
            ],
            [
             0.4,
             "#000025"
            ],
            [
             0.5,
             "#000026"
            ],
            [
             0.6,
             "#000027"
            ],
            [
             0.7,
             "#000028"
            ],
            [
             0.8,
             "#000029"
            ],
            [
             0.9,
             "#000030"
            ],
            [
             1,
             "#000031"
            ]
           ],
           "sequential": [
            [
             0,
             "#000011"
            ],
            [
             0.1111111111111111,
             "#000012"
            ],
            [
             0.2222222222222222,
             "#000013"
            ],
            [
             0.3333333333333333,
             "#000014"
            ],
            [
             0.4444444444444444,
             "#000015"
            ],
            [
             0.5555555555555556,
             "#000016"
            ],
            [
             0.6666666666666666,
             "#000017"
            ],
            [
             0.7777777777777778,
             "#000018"
            ],
            [
             0.8888888888888888,
             "#000019"
            ],
            [
             1,
             "#000020"
            ]
           ],
           "sequentialminus": [
            [
             0,
             "#000011"
            ],
            [
             0.1111111111111111,
             "#000012"
            ],
            [
             0.2222222222222222,
             "#000013"
            ],
            [
             0.3333333333333333,
             "#000014"
            ],
            [
             0.4444444444444444,
             "#000015"
            ],
            [
             0.5555555555555556,
             "#000016"
            ],
            [
             0.6666666666666666,
             "#000017"
            ],
            [
             0.7777777777777778,
             "#000018"
            ],
            [
             0.8888888888888888,
             "#000019"
            ],
            [
             1,
             "#000020"
            ]
           ]
          },
          "colorway": [
           "#000001",
           "#000002",
           "#000003",
           "#000004",
           "#000005",
           "#000006",
           "#000007",
           "#000008",
           "#000009",
           "#000010"
          ]
         }
        },
        "xaxis": {
         "anchor": "y",
         "domain": [
          0,
          1
         ],
         "tickangle": 20,
         "tickmode": "array",
         "title": {
          "font": {
           "color": "black",
           "family": "Arial",
           "size": 20
          },
          "standoff": 20,
          "text": "Distritos"
         }
        },
        "yaxis": {
         "anchor": "x",
         "domain": [
          0,
          1
         ],
         "title": {
          "font": {
           "color": "black",
           "family": "Arial",
           "size": 20
          },
          "text": "Personas por Bici"
         }
        }
       }
      },
      "text/html": [
       "<div>                            <div id=\"e3770d63-f89c-4174-86e9-95630b551e63\" class=\"plotly-graph-div\" style=\"height:525px; width:100%;\"></div>            <script type=\"text/javascript\">                require([\"plotly\"], function(Plotly) {                    window.PLOTLYENV=window.PLOTLYENV || {};                                    if (document.getElementById(\"e3770d63-f89c-4174-86e9-95630b551e63\")) {                    Plotly.newPlot(                        \"e3770d63-f89c-4174-86e9-95630b551e63\",                        [{\"alignmentgroup\":\"True\",\"hovertemplate\":\"Distrito=%{x}<br>personas por bici=%{y}<extra></extra>\",\"legendgroup\":\"\",\"marker\":{\"color\":\"#4682B4\",\"pattern\":{\"shape\":\"\"}},\"name\":\"\",\"offsetgroup\":\"\",\"orientation\":\"v\",\"showlegend\":false,\"textposition\":\"auto\",\"x\":[\"Centro\",\"Arganzuela\",\"Retiro\",\"Salamanca\",\"Chamart\\u00edn\",\"Tetu\\u00e1n\",\"Chamber\\u00ed\",\"Fuencarral-El Pardo\",\"Moncloa-Aravaca\",\"Latina\",\"Carabanchel\",\"Usera\",\"Puente de Vallecas\",\"Moratalaz\",\"Ciudad Lineal\",\"Hortaleza\",\"Villaverde\",\"Villa de Vallecas\",\"Vic\\u00e1lvaro\",\"San Blas-Canillejas\",\"Barajas\"],\"xaxis\":\"x\",\"y\":[94.5720430107527,162.52941176470588,169.06704707560627,145.39939332659253,172.38221153846155,288.53470919324576,196.28714285714287,230.45945945945945,150.26092544987148,315.95675675675676,296.8345498783455,340.3813131313131,374.33388157894734,369.4,289.1551020408163,243.86756756756756,327.08256880733944,230.50993377483445,210.36336336336336,233.52042360060514,119.27735368956743],\"yaxis\":\"y\",\"type\":\"bar\"}],                        {\"template\":{\"data\":{\"candlestick\":[{\"decreasing\":{\"line\":{\"color\":\"#000033\"}},\"increasing\":{\"line\":{\"color\":\"#000032\"}},\"type\":\"candlestick\"}],\"contourcarpet\":[{\"colorscale\":[[0.0,\"#000011\"],[0.1111111111111111,\"#000012\"],[0.2222222222222222,\"#000013\"],[0.3333333333333333,\"#000014\"],[0.4444444444444444,\"#000015\"],[0.5555555555555556,\"#000016\"],[0.6666666666666666,\"#000017\"],[0.7777777777777778,\"#000018\"],[0.8888888888888888,\"#000019\"],[1.0,\"#000020\"]],\"type\":\"contourcarpet\"}],\"contour\":[{\"colorscale\":[[0.0,\"#000011\"],[0.1111111111111111,\"#000012\"],[0.2222222222222222,\"#000013\"],[0.3333333333333333,\"#000014\"],[0.4444444444444444,\"#000015\"],[0.5555555555555556,\"#000016\"],[0.6666666666666666,\"#000017\"],[0.7777777777777778,\"#000018\"],[0.8888888888888888,\"#000019\"],[1.0,\"#000020\"]],\"type\":\"contour\"}],\"heatmap\":[{\"colorscale\":[[0.0,\"#000011\"],[0.1111111111111111,\"#000012\"],[0.2222222222222222,\"#000013\"],[0.3333333333333333,\"#000014\"],[0.4444444444444444,\"#000015\"],[0.5555555555555556,\"#000016\"],[0.6666666666666666,\"#000017\"],[0.7777777777777778,\"#000018\"],[0.8888888888888888,\"#000019\"],[1.0,\"#000020\"]],\"type\":\"heatmap\"}],\"histogram2d\":[{\"colorscale\":[[0.0,\"#000011\"],[0.1111111111111111,\"#000012\"],[0.2222222222222222,\"#000013\"],[0.3333333333333333,\"#000014\"],[0.4444444444444444,\"#000015\"],[0.5555555555555556,\"#000016\"],[0.6666666666666666,\"#000017\"],[0.7777777777777778,\"#000018\"],[0.8888888888888888,\"#000019\"],[1.0,\"#000020\"]],\"type\":\"histogram2d\"}],\"icicle\":[{\"textfont\":{\"color\":\"white\"},\"type\":\"icicle\"}],\"sankey\":[{\"textfont\":{\"color\":\"#000036\"},\"type\":\"sankey\"}],\"scatter\":[{\"marker\":{\"line\":{\"width\":0}},\"type\":\"scatter\"}],\"table\":[{\"cells\":{\"fill\":{\"color\":\"#000038\"},\"font\":{\"color\":\"#000037\"},\"line\":{\"color\":\"#000039\"}},\"header\":{\"fill\":{\"color\":\"#000040\"},\"font\":{\"color\":\"#000036\"},\"line\":{\"color\":\"#000039\"}},\"type\":\"table\"}],\"waterfall\":[{\"connector\":{\"line\":{\"color\":\"#000036\",\"width\":2}},\"decreasing\":{\"marker\":{\"color\":\"#000033\"}},\"increasing\":{\"marker\":{\"color\":\"#000032\"}},\"totals\":{\"marker\":{\"color\":\"#000034\"}},\"type\":\"waterfall\"}]},\"layout\":{\"coloraxis\":{\"colorscale\":[[0.0,\"#000011\"],[0.1111111111111111,\"#000012\"],[0.2222222222222222,\"#000013\"],[0.3333333333333333,\"#000014\"],[0.4444444444444444,\"#000015\"],[0.5555555555555556,\"#000016\"],[0.6666666666666666,\"#000017\"],[0.7777777777777778,\"#000018\"],[0.8888888888888888,\"#000019\"],[1.0,\"#000020\"]]},\"colorscale\":{\"diverging\":[[0.0,\"#000021\"],[0.1,\"#000022\"],[0.2,\"#000023\"],[0.3,\"#000024\"],[0.4,\"#000025\"],[0.5,\"#000026\"],[0.6,\"#000027\"],[0.7,\"#000028\"],[0.8,\"#000029\"],[0.9,\"#000030\"],[1.0,\"#000031\"]],\"sequential\":[[0.0,\"#000011\"],[0.1111111111111111,\"#000012\"],[0.2222222222222222,\"#000013\"],[0.3333333333333333,\"#000014\"],[0.4444444444444444,\"#000015\"],[0.5555555555555556,\"#000016\"],[0.6666666666666666,\"#000017\"],[0.7777777777777778,\"#000018\"],[0.8888888888888888,\"#000019\"],[1.0,\"#000020\"]],\"sequentialminus\":[[0.0,\"#000011\"],[0.1111111111111111,\"#000012\"],[0.2222222222222222,\"#000013\"],[0.3333333333333333,\"#000014\"],[0.4444444444444444,\"#000015\"],[0.5555555555555556,\"#000016\"],[0.6666666666666666,\"#000017\"],[0.7777777777777778,\"#000018\"],[0.8888888888888888,\"#000019\"],[1.0,\"#000020\"]]},\"colorway\":[\"#000001\",\"#000002\",\"#000003\",\"#000004\",\"#000005\",\"#000006\",\"#000007\",\"#000008\",\"#000009\",\"#000010\"]}},\"xaxis\":{\"anchor\":\"y\",\"domain\":[0.0,1.0],\"title\":{\"text\":\"Distritos\",\"standoff\":20,\"font\":{\"size\":20,\"family\":\"Arial\",\"color\":\"black\"}},\"tickangle\":20,\"tickmode\":\"array\"},\"yaxis\":{\"anchor\":\"x\",\"domain\":[0.0,1.0],\"title\":{\"text\":\"Personas por Bici\",\"font\":{\"size\":20,\"family\":\"Arial\",\"color\":\"black\"}}},\"legend\":{\"tracegroupgap\":0},\"margin\":{\"t\":60},\"barmode\":\"relative\"},                        {\"responsive\": true}                    ).then(function(){\n",
       "                            \n",
       "var gd = document.getElementById('e3770d63-f89c-4174-86e9-95630b551e63');\n",
       "var x = new MutationObserver(function (mutations, observer) {{\n",
       "        var display = window.getComputedStyle(gd).display;\n",
       "        if (!display || display === 'none') {{\n",
       "            console.log([gd, 'removed!']);\n",
       "            Plotly.purge(gd);\n",
       "            observer.disconnect();\n",
       "        }}\n",
       "}});\n",
       "\n",
       "// Listen for the removal of the full notebook cells\n",
       "var notebookContainer = gd.closest('#notebook-container');\n",
       "if (notebookContainer) {{\n",
       "    x.observe(notebookContainer, {childList: true});\n",
       "}}\n",
       "\n",
       "// Listen for the clearing of the current output cell\n",
       "var outputEl = gd.closest('.output');\n",
       "if (outputEl) {{\n",
       "    x.observe(outputEl, {childList: true});\n",
       "}}\n",
       "\n",
       "                        })                };                });            </script>        </div>"
      ]
     },
     "metadata": {},
     "output_type": "display_data"
    }
   ],
   "source": [
    "fig = px.bar(df_con_scrapper, y='personas por bici', x='nombre', \n",
    "             labels={'nombre': 'Distrito', 'area': 'Personas por Bici'},\n",
    "             color_discrete_sequence=['#4682B4'])\n",
    "\n",
    "fig.update_xaxes(tickangle=20, tickmode='array')\n",
    "fig.update_xaxes(title_standoff=20)\n",
    "# Poner el nombre del eje x en negrita\n",
    "fig.update_xaxes(title_text='Distritos', title_font=dict(size=20, family='Arial', color='black'))\n",
    "\n",
    "# Poner el nombre del eje y en negrita\n",
    "fig.update_yaxes(title_text='Personas por Bici', title_font=dict(size=20, family='Arial', color='black'))"
   ]
  },
  {
   "cell_type": "code",
   "execution_count": 109,
   "id": "c44cbf54",
   "metadata": {},
   "outputs": [],
   "source": [
    "df_con_scrapper['hectareas por bici']=(df_con_scrapper['area']*100)/df_con_scrapper['bicis']"
   ]
  },
  {
   "cell_type": "code",
   "execution_count": 145,
   "id": "1bbda4c3",
   "metadata": {},
   "outputs": [
    {
     "data": {
      "application/vnd.plotly.v1+json": {
       "config": {
        "plotlyServerURL": "https://plot.ly"
       },
       "data": [
        {
         "alignmentgroup": "True",
         "hovertemplate": "Distrito=%{x}<br>Hectareas=%{y}<extra></extra>",
         "legendgroup": "",
         "marker": {
          "color": "#4682B4",
          "pattern": {
           "shape": ""
          }
         },
         "name": "",
         "offsetgroup": "",
         "orientation": "v",
         "showlegend": false,
         "textposition": "auto",
         "type": "bar",
         "x": [
          "Centro",
          "Arganzuela",
          "Retiro",
          "Salamanca",
          "Chamartín",
          "Tetuán",
          "Chamberí",
          "Fuencarral-El Pardo",
          "Moncloa-Aravaca",
          "Latina",
          "Carabanchel",
          "Usera",
          "Puente de Vallecas",
          "Moratalaz",
          "Ciudad Lineal",
          "Hortaleza",
          "Villaverde",
          "Villa de Vallecas",
          "Vicálvaro",
          "San Blas-Canillejas",
          "Barajas"
         ],
         "xaxis": "x",
         "y": [
          52282.00000000001,
          64622,
          54662,
          53924,
          91755,
          53747,
          46792,
          2378384,
          465310.99999999994,
          254271.99999999997,
          140483,
          77777,
          149686,
          61032.00000000001,
          114257,
          274198,
          201876,
          514672,
          352667,
          222923.99999999997,
          419228
         ],
         "yaxis": "y"
        }
       ],
       "layout": {
        "barmode": "relative",
        "legend": {
         "tracegroupgap": 0
        },
        "margin": {
         "t": 60
        },
        "template": {
         "data": {
          "candlestick": [
           {
            "decreasing": {
             "line": {
              "color": "#000033"
             }
            },
            "increasing": {
             "line": {
              "color": "#000032"
             }
            },
            "type": "candlestick"
           }
          ],
          "contour": [
           {
            "colorscale": [
             [
              0,
              "#000011"
             ],
             [
              0.1111111111111111,
              "#000012"
             ],
             [
              0.2222222222222222,
              "#000013"
             ],
             [
              0.3333333333333333,
              "#000014"
             ],
             [
              0.4444444444444444,
              "#000015"
             ],
             [
              0.5555555555555556,
              "#000016"
             ],
             [
              0.6666666666666666,
              "#000017"
             ],
             [
              0.7777777777777778,
              "#000018"
             ],
             [
              0.8888888888888888,
              "#000019"
             ],
             [
              1,
              "#000020"
             ]
            ],
            "type": "contour"
           }
          ],
          "contourcarpet": [
           {
            "colorscale": [
             [
              0,
              "#000011"
             ],
             [
              0.1111111111111111,
              "#000012"
             ],
             [
              0.2222222222222222,
              "#000013"
             ],
             [
              0.3333333333333333,
              "#000014"
             ],
             [
              0.4444444444444444,
              "#000015"
             ],
             [
              0.5555555555555556,
              "#000016"
             ],
             [
              0.6666666666666666,
              "#000017"
             ],
             [
              0.7777777777777778,
              "#000018"
             ],
             [
              0.8888888888888888,
              "#000019"
             ],
             [
              1,
              "#000020"
             ]
            ],
            "type": "contourcarpet"
           }
          ],
          "heatmap": [
           {
            "colorscale": [
             [
              0,
              "#000011"
             ],
             [
              0.1111111111111111,
              "#000012"
             ],
             [
              0.2222222222222222,
              "#000013"
             ],
             [
              0.3333333333333333,
              "#000014"
             ],
             [
              0.4444444444444444,
              "#000015"
             ],
             [
              0.5555555555555556,
              "#000016"
             ],
             [
              0.6666666666666666,
              "#000017"
             ],
             [
              0.7777777777777778,
              "#000018"
             ],
             [
              0.8888888888888888,
              "#000019"
             ],
             [
              1,
              "#000020"
             ]
            ],
            "type": "heatmap"
           }
          ],
          "histogram2d": [
           {
            "colorscale": [
             [
              0,
              "#000011"
             ],
             [
              0.1111111111111111,
              "#000012"
             ],
             [
              0.2222222222222222,
              "#000013"
             ],
             [
              0.3333333333333333,
              "#000014"
             ],
             [
              0.4444444444444444,
              "#000015"
             ],
             [
              0.5555555555555556,
              "#000016"
             ],
             [
              0.6666666666666666,
              "#000017"
             ],
             [
              0.7777777777777778,
              "#000018"
             ],
             [
              0.8888888888888888,
              "#000019"
             ],
             [
              1,
              "#000020"
             ]
            ],
            "type": "histogram2d"
           }
          ],
          "icicle": [
           {
            "textfont": {
             "color": "white"
            },
            "type": "icicle"
           }
          ],
          "sankey": [
           {
            "textfont": {
             "color": "#000036"
            },
            "type": "sankey"
           }
          ],
          "scatter": [
           {
            "marker": {
             "line": {
              "width": 0
             }
            },
            "type": "scatter"
           }
          ],
          "table": [
           {
            "cells": {
             "fill": {
              "color": "#000038"
             },
             "font": {
              "color": "#000037"
             },
             "line": {
              "color": "#000039"
             }
            },
            "header": {
             "fill": {
              "color": "#000040"
             },
             "font": {
              "color": "#000036"
             },
             "line": {
              "color": "#000039"
             }
            },
            "type": "table"
           }
          ],
          "waterfall": [
           {
            "connector": {
             "line": {
              "color": "#000036",
              "width": 2
             }
            },
            "decreasing": {
             "marker": {
              "color": "#000033"
             }
            },
            "increasing": {
             "marker": {
              "color": "#000032"
             }
            },
            "totals": {
             "marker": {
              "color": "#000034"
             }
            },
            "type": "waterfall"
           }
          ]
         },
         "layout": {
          "coloraxis": {
           "colorscale": [
            [
             0,
             "#000011"
            ],
            [
             0.1111111111111111,
             "#000012"
            ],
            [
             0.2222222222222222,
             "#000013"
            ],
            [
             0.3333333333333333,
             "#000014"
            ],
            [
             0.4444444444444444,
             "#000015"
            ],
            [
             0.5555555555555556,
             "#000016"
            ],
            [
             0.6666666666666666,
             "#000017"
            ],
            [
             0.7777777777777778,
             "#000018"
            ],
            [
             0.8888888888888888,
             "#000019"
            ],
            [
             1,
             "#000020"
            ]
           ]
          },
          "colorscale": {
           "diverging": [
            [
             0,
             "#000021"
            ],
            [
             0.1,
             "#000022"
            ],
            [
             0.2,
             "#000023"
            ],
            [
             0.3,
             "#000024"
            ],
            [
             0.4,
             "#000025"
            ],
            [
             0.5,
             "#000026"
            ],
            [
             0.6,
             "#000027"
            ],
            [
             0.7,
             "#000028"
            ],
            [
             0.8,
             "#000029"
            ],
            [
             0.9,
             "#000030"
            ],
            [
             1,
             "#000031"
            ]
           ],
           "sequential": [
            [
             0,
             "#000011"
            ],
            [
             0.1111111111111111,
             "#000012"
            ],
            [
             0.2222222222222222,
             "#000013"
            ],
            [
             0.3333333333333333,
             "#000014"
            ],
            [
             0.4444444444444444,
             "#000015"
            ],
            [
             0.5555555555555556,
             "#000016"
            ],
            [
             0.6666666666666666,
             "#000017"
            ],
            [
             0.7777777777777778,
             "#000018"
            ],
            [
             0.8888888888888888,
             "#000019"
            ],
            [
             1,
             "#000020"
            ]
           ],
           "sequentialminus": [
            [
             0,
             "#000011"
            ],
            [
             0.1111111111111111,
             "#000012"
            ],
            [
             0.2222222222222222,
             "#000013"
            ],
            [
             0.3333333333333333,
             "#000014"
            ],
            [
             0.4444444444444444,
             "#000015"
            ],
            [
             0.5555555555555556,
             "#000016"
            ],
            [
             0.6666666666666666,
             "#000017"
            ],
            [
             0.7777777777777778,
             "#000018"
            ],
            [
             0.8888888888888888,
             "#000019"
            ],
            [
             1,
             "#000020"
            ]
           ]
          },
          "colorway": [
           "#000001",
           "#000002",
           "#000003",
           "#000004",
           "#000005",
           "#000006",
           "#000007",
           "#000008",
           "#000009",
           "#000010"
          ]
         }
        },
        "xaxis": {
         "anchor": "y",
         "domain": [
          0,
          1
         ],
         "tickangle": 20,
         "tickmode": "array",
         "title": {
          "font": {
           "color": "black",
           "family": "Arial",
           "size": 20
          },
          "standoff": 20,
          "text": "Distritos"
         }
        },
        "yaxis": {
         "anchor": "x",
         "domain": [
          0,
          1
         ],
         "title": {
          "font": {
           "color": "black",
           "family": "Arial",
           "size": 20
          },
          "text": "Hectáreas"
         }
        }
       }
      },
      "text/html": [
       "<div>                            <div id=\"a92dc0cb-4538-4c39-943d-576bc0c2e259\" class=\"plotly-graph-div\" style=\"height:525px; width:100%;\"></div>            <script type=\"text/javascript\">                require([\"plotly\"], function(Plotly) {                    window.PLOTLYENV=window.PLOTLYENV || {};                                    if (document.getElementById(\"a92dc0cb-4538-4c39-943d-576bc0c2e259\")) {                    Plotly.newPlot(                        \"a92dc0cb-4538-4c39-943d-576bc0c2e259\",                        [{\"alignmentgroup\":\"True\",\"hovertemplate\":\"Distrito=%{x}<br>Hectareas=%{y}<extra></extra>\",\"legendgroup\":\"\",\"marker\":{\"color\":\"#4682B4\",\"pattern\":{\"shape\":\"\"}},\"name\":\"\",\"offsetgroup\":\"\",\"orientation\":\"v\",\"showlegend\":false,\"textposition\":\"auto\",\"x\":[\"Centro\",\"Arganzuela\",\"Retiro\",\"Salamanca\",\"Chamart\\u00edn\",\"Tetu\\u00e1n\",\"Chamber\\u00ed\",\"Fuencarral-El Pardo\",\"Moncloa-Aravaca\",\"Latina\",\"Carabanchel\",\"Usera\",\"Puente de Vallecas\",\"Moratalaz\",\"Ciudad Lineal\",\"Hortaleza\",\"Villaverde\",\"Villa de Vallecas\",\"Vic\\u00e1lvaro\",\"San Blas-Canillejas\",\"Barajas\"],\"xaxis\":\"x\",\"y\":[52282.00000000001,64622.0,54662.0,53924.0,91755.0,53747.0,46792.0,2378384.0,465310.99999999994,254271.99999999997,140483.0,77777.0,149686.0,61032.00000000001,114257.0,274198.0,201876.0,514672.0,352667.0,222923.99999999997,419228.0],\"yaxis\":\"y\",\"type\":\"bar\"}],                        {\"template\":{\"data\":{\"candlestick\":[{\"decreasing\":{\"line\":{\"color\":\"#000033\"}},\"increasing\":{\"line\":{\"color\":\"#000032\"}},\"type\":\"candlestick\"}],\"contourcarpet\":[{\"colorscale\":[[0.0,\"#000011\"],[0.1111111111111111,\"#000012\"],[0.2222222222222222,\"#000013\"],[0.3333333333333333,\"#000014\"],[0.4444444444444444,\"#000015\"],[0.5555555555555556,\"#000016\"],[0.6666666666666666,\"#000017\"],[0.7777777777777778,\"#000018\"],[0.8888888888888888,\"#000019\"],[1.0,\"#000020\"]],\"type\":\"contourcarpet\"}],\"contour\":[{\"colorscale\":[[0.0,\"#000011\"],[0.1111111111111111,\"#000012\"],[0.2222222222222222,\"#000013\"],[0.3333333333333333,\"#000014\"],[0.4444444444444444,\"#000015\"],[0.5555555555555556,\"#000016\"],[0.6666666666666666,\"#000017\"],[0.7777777777777778,\"#000018\"],[0.8888888888888888,\"#000019\"],[1.0,\"#000020\"]],\"type\":\"contour\"}],\"heatmap\":[{\"colorscale\":[[0.0,\"#000011\"],[0.1111111111111111,\"#000012\"],[0.2222222222222222,\"#000013\"],[0.3333333333333333,\"#000014\"],[0.4444444444444444,\"#000015\"],[0.5555555555555556,\"#000016\"],[0.6666666666666666,\"#000017\"],[0.7777777777777778,\"#000018\"],[0.8888888888888888,\"#000019\"],[1.0,\"#000020\"]],\"type\":\"heatmap\"}],\"histogram2d\":[{\"colorscale\":[[0.0,\"#000011\"],[0.1111111111111111,\"#000012\"],[0.2222222222222222,\"#000013\"],[0.3333333333333333,\"#000014\"],[0.4444444444444444,\"#000015\"],[0.5555555555555556,\"#000016\"],[0.6666666666666666,\"#000017\"],[0.7777777777777778,\"#000018\"],[0.8888888888888888,\"#000019\"],[1.0,\"#000020\"]],\"type\":\"histogram2d\"}],\"icicle\":[{\"textfont\":{\"color\":\"white\"},\"type\":\"icicle\"}],\"sankey\":[{\"textfont\":{\"color\":\"#000036\"},\"type\":\"sankey\"}],\"scatter\":[{\"marker\":{\"line\":{\"width\":0}},\"type\":\"scatter\"}],\"table\":[{\"cells\":{\"fill\":{\"color\":\"#000038\"},\"font\":{\"color\":\"#000037\"},\"line\":{\"color\":\"#000039\"}},\"header\":{\"fill\":{\"color\":\"#000040\"},\"font\":{\"color\":\"#000036\"},\"line\":{\"color\":\"#000039\"}},\"type\":\"table\"}],\"waterfall\":[{\"connector\":{\"line\":{\"color\":\"#000036\",\"width\":2}},\"decreasing\":{\"marker\":{\"color\":\"#000033\"}},\"increasing\":{\"marker\":{\"color\":\"#000032\"}},\"totals\":{\"marker\":{\"color\":\"#000034\"}},\"type\":\"waterfall\"}]},\"layout\":{\"coloraxis\":{\"colorscale\":[[0.0,\"#000011\"],[0.1111111111111111,\"#000012\"],[0.2222222222222222,\"#000013\"],[0.3333333333333333,\"#000014\"],[0.4444444444444444,\"#000015\"],[0.5555555555555556,\"#000016\"],[0.6666666666666666,\"#000017\"],[0.7777777777777778,\"#000018\"],[0.8888888888888888,\"#000019\"],[1.0,\"#000020\"]]},\"colorscale\":{\"diverging\":[[0.0,\"#000021\"],[0.1,\"#000022\"],[0.2,\"#000023\"],[0.3,\"#000024\"],[0.4,\"#000025\"],[0.5,\"#000026\"],[0.6,\"#000027\"],[0.7,\"#000028\"],[0.8,\"#000029\"],[0.9,\"#000030\"],[1.0,\"#000031\"]],\"sequential\":[[0.0,\"#000011\"],[0.1111111111111111,\"#000012\"],[0.2222222222222222,\"#000013\"],[0.3333333333333333,\"#000014\"],[0.4444444444444444,\"#000015\"],[0.5555555555555556,\"#000016\"],[0.6666666666666666,\"#000017\"],[0.7777777777777778,\"#000018\"],[0.8888888888888888,\"#000019\"],[1.0,\"#000020\"]],\"sequentialminus\":[[0.0,\"#000011\"],[0.1111111111111111,\"#000012\"],[0.2222222222222222,\"#000013\"],[0.3333333333333333,\"#000014\"],[0.4444444444444444,\"#000015\"],[0.5555555555555556,\"#000016\"],[0.6666666666666666,\"#000017\"],[0.7777777777777778,\"#000018\"],[0.8888888888888888,\"#000019\"],[1.0,\"#000020\"]]},\"colorway\":[\"#000001\",\"#000002\",\"#000003\",\"#000004\",\"#000005\",\"#000006\",\"#000007\",\"#000008\",\"#000009\",\"#000010\"]}},\"xaxis\":{\"anchor\":\"y\",\"domain\":[0.0,1.0],\"title\":{\"text\":\"Distritos\",\"standoff\":20,\"font\":{\"size\":20,\"family\":\"Arial\",\"color\":\"black\"}},\"tickangle\":20,\"tickmode\":\"array\"},\"yaxis\":{\"anchor\":\"x\",\"domain\":[0.0,1.0],\"title\":{\"text\":\"Hect\\u00e1reas\",\"font\":{\"size\":20,\"family\":\"Arial\",\"color\":\"black\"}}},\"legend\":{\"tracegroupgap\":0},\"margin\":{\"t\":60},\"barmode\":\"relative\"},                        {\"responsive\": true}                    ).then(function(){\n",
       "                            \n",
       "var gd = document.getElementById('a92dc0cb-4538-4c39-943d-576bc0c2e259');\n",
       "var x = new MutationObserver(function (mutations, observer) {{\n",
       "        var display = window.getComputedStyle(gd).display;\n",
       "        if (!display || display === 'none') {{\n",
       "            console.log([gd, 'removed!']);\n",
       "            Plotly.purge(gd);\n",
       "            observer.disconnect();\n",
       "        }}\n",
       "}});\n",
       "\n",
       "// Listen for the removal of the full notebook cells\n",
       "var notebookContainer = gd.closest('#notebook-container');\n",
       "if (notebookContainer) {{\n",
       "    x.observe(notebookContainer, {childList: true});\n",
       "}}\n",
       "\n",
       "// Listen for the clearing of the current output cell\n",
       "var outputEl = gd.closest('.output');\n",
       "if (outputEl) {{\n",
       "    x.observe(outputEl, {childList: true});\n",
       "}}\n",
       "\n",
       "                        })                };                });            </script>        </div>"
      ]
     },
     "metadata": {},
     "output_type": "display_data"
    }
   ],
   "source": [
    "df_con_scrapper['hectareas']=df_con_scrapper['area']*100\n",
    "\n",
    "fig = px.bar(df_con_scrapper, y='hectareas', x='nombre', \n",
    "             labels={'nombre': 'Distrito', 'hectareas': 'Hectareas'},\n",
    "             color_discrete_sequence=['#4682B4'])\n",
    "\n",
    "fig.update_xaxes(tickangle=20, tickmode='array')\n",
    "fig.update_xaxes(title_standoff=20)\n",
    "# Poner el nombre del eje x en negrita\n",
    "fig.update_xaxes(title_text='Distritos', title_font=dict(size=20, family='Arial', color='black'))\n",
    "\n",
    "# Poner el nombre del eje y en negrita\n",
    "fig.update_yaxes(title_text='Hectáreas', title_font=dict(size=20, family='Arial', color='black'))"
   ]
  },
  {
   "cell_type": "code",
   "execution_count": 137,
   "id": "4f5dfb53",
   "metadata": {},
   "outputs": [
    {
     "data": {
      "application/vnd.plotly.v1+json": {
       "config": {
        "plotlyServerURL": "https://plot.ly"
       },
       "data": [
        {
         "alignmentgroup": "True",
         "hovertemplate": "Distrito=%{x}<br>hectareas por bici=%{y}<extra></extra>",
         "legendgroup": "",
         "marker": {
          "color": "#4682B4",
          "pattern": {
           "shape": ""
          }
         },
         "name": "",
         "offsetgroup": "",
         "orientation": "v",
         "showlegend": false,
         "textposition": "auto",
         "type": "bar",
         "x": [
          "Centro",
          "Arganzuela",
          "Retiro",
          "Salamanca",
          "Chamartín",
          "Tetuán",
          "Chamberí",
          "Fuencarral-El Pardo",
          "Moncloa-Aravaca",
          "Latina",
          "Carabanchel",
          "Usera",
          "Puente de Vallecas",
          "Moratalaz",
          "Ciudad Lineal",
          "Hortaleza",
          "Villaverde",
          "Villa de Vallecas",
          "Vicálvaro",
          "San Blas-Canillejas",
          "Barajas"
         ],
         "xaxis": "x",
         "y": [
          37.478136200716854,
          69.11443850267379,
          77.9771754636234,
          54.52376137512639,
          110.28245192307692,
          100.83864915572232,
          66.84571428571428,
          2295.737451737452,
          598.0861182519279,
          343.6108108108108,
          170.90389294403892,
          196.40656565656565,
          246.1940789473684,
          239.34117647058827,
          155.4517006802721,
          370.53783783783786,
          463.0183486238532,
          1136.141280353201,
          1059.06006006006,
          337.2526475037821,
          1066.737913486005
         ],
         "yaxis": "y"
        }
       ],
       "layout": {
        "barmode": "relative",
        "legend": {
         "tracegroupgap": 0
        },
        "margin": {
         "t": 60
        },
        "template": {
         "data": {
          "candlestick": [
           {
            "decreasing": {
             "line": {
              "color": "#000033"
             }
            },
            "increasing": {
             "line": {
              "color": "#000032"
             }
            },
            "type": "candlestick"
           }
          ],
          "contour": [
           {
            "colorscale": [
             [
              0,
              "#000011"
             ],
             [
              0.1111111111111111,
              "#000012"
             ],
             [
              0.2222222222222222,
              "#000013"
             ],
             [
              0.3333333333333333,
              "#000014"
             ],
             [
              0.4444444444444444,
              "#000015"
             ],
             [
              0.5555555555555556,
              "#000016"
             ],
             [
              0.6666666666666666,
              "#000017"
             ],
             [
              0.7777777777777778,
              "#000018"
             ],
             [
              0.8888888888888888,
              "#000019"
             ],
             [
              1,
              "#000020"
             ]
            ],
            "type": "contour"
           }
          ],
          "contourcarpet": [
           {
            "colorscale": [
             [
              0,
              "#000011"
             ],
             [
              0.1111111111111111,
              "#000012"
             ],
             [
              0.2222222222222222,
              "#000013"
             ],
             [
              0.3333333333333333,
              "#000014"
             ],
             [
              0.4444444444444444,
              "#000015"
             ],
             [
              0.5555555555555556,
              "#000016"
             ],
             [
              0.6666666666666666,
              "#000017"
             ],
             [
              0.7777777777777778,
              "#000018"
             ],
             [
              0.8888888888888888,
              "#000019"
             ],
             [
              1,
              "#000020"
             ]
            ],
            "type": "contourcarpet"
           }
          ],
          "heatmap": [
           {
            "colorscale": [
             [
              0,
              "#000011"
             ],
             [
              0.1111111111111111,
              "#000012"
             ],
             [
              0.2222222222222222,
              "#000013"
             ],
             [
              0.3333333333333333,
              "#000014"
             ],
             [
              0.4444444444444444,
              "#000015"
             ],
             [
              0.5555555555555556,
              "#000016"
             ],
             [
              0.6666666666666666,
              "#000017"
             ],
             [
              0.7777777777777778,
              "#000018"
             ],
             [
              0.8888888888888888,
              "#000019"
             ],
             [
              1,
              "#000020"
             ]
            ],
            "type": "heatmap"
           }
          ],
          "histogram2d": [
           {
            "colorscale": [
             [
              0,
              "#000011"
             ],
             [
              0.1111111111111111,
              "#000012"
             ],
             [
              0.2222222222222222,
              "#000013"
             ],
             [
              0.3333333333333333,
              "#000014"
             ],
             [
              0.4444444444444444,
              "#000015"
             ],
             [
              0.5555555555555556,
              "#000016"
             ],
             [
              0.6666666666666666,
              "#000017"
             ],
             [
              0.7777777777777778,
              "#000018"
             ],
             [
              0.8888888888888888,
              "#000019"
             ],
             [
              1,
              "#000020"
             ]
            ],
            "type": "histogram2d"
           }
          ],
          "icicle": [
           {
            "textfont": {
             "color": "white"
            },
            "type": "icicle"
           }
          ],
          "sankey": [
           {
            "textfont": {
             "color": "#000036"
            },
            "type": "sankey"
           }
          ],
          "scatter": [
           {
            "marker": {
             "line": {
              "width": 0
             }
            },
            "type": "scatter"
           }
          ],
          "table": [
           {
            "cells": {
             "fill": {
              "color": "#000038"
             },
             "font": {
              "color": "#000037"
             },
             "line": {
              "color": "#000039"
             }
            },
            "header": {
             "fill": {
              "color": "#000040"
             },
             "font": {
              "color": "#000036"
             },
             "line": {
              "color": "#000039"
             }
            },
            "type": "table"
           }
          ],
          "waterfall": [
           {
            "connector": {
             "line": {
              "color": "#000036",
              "width": 2
             }
            },
            "decreasing": {
             "marker": {
              "color": "#000033"
             }
            },
            "increasing": {
             "marker": {
              "color": "#000032"
             }
            },
            "totals": {
             "marker": {
              "color": "#000034"
             }
            },
            "type": "waterfall"
           }
          ]
         },
         "layout": {
          "coloraxis": {
           "colorscale": [
            [
             0,
             "#000011"
            ],
            [
             0.1111111111111111,
             "#000012"
            ],
            [
             0.2222222222222222,
             "#000013"
            ],
            [
             0.3333333333333333,
             "#000014"
            ],
            [
             0.4444444444444444,
             "#000015"
            ],
            [
             0.5555555555555556,
             "#000016"
            ],
            [
             0.6666666666666666,
             "#000017"
            ],
            [
             0.7777777777777778,
             "#000018"
            ],
            [
             0.8888888888888888,
             "#000019"
            ],
            [
             1,
             "#000020"
            ]
           ]
          },
          "colorscale": {
           "diverging": [
            [
             0,
             "#000021"
            ],
            [
             0.1,
             "#000022"
            ],
            [
             0.2,
             "#000023"
            ],
            [
             0.3,
             "#000024"
            ],
            [
             0.4,
             "#000025"
            ],
            [
             0.5,
             "#000026"
            ],
            [
             0.6,
             "#000027"
            ],
            [
             0.7,
             "#000028"
            ],
            [
             0.8,
             "#000029"
            ],
            [
             0.9,
             "#000030"
            ],
            [
             1,
             "#000031"
            ]
           ],
           "sequential": [
            [
             0,
             "#000011"
            ],
            [
             0.1111111111111111,
             "#000012"
            ],
            [
             0.2222222222222222,
             "#000013"
            ],
            [
             0.3333333333333333,
             "#000014"
            ],
            [
             0.4444444444444444,
             "#000015"
            ],
            [
             0.5555555555555556,
             "#000016"
            ],
            [
             0.6666666666666666,
             "#000017"
            ],
            [
             0.7777777777777778,
             "#000018"
            ],
            [
             0.8888888888888888,
             "#000019"
            ],
            [
             1,
             "#000020"
            ]
           ],
           "sequentialminus": [
            [
             0,
             "#000011"
            ],
            [
             0.1111111111111111,
             "#000012"
            ],
            [
             0.2222222222222222,
             "#000013"
            ],
            [
             0.3333333333333333,
             "#000014"
            ],
            [
             0.4444444444444444,
             "#000015"
            ],
            [
             0.5555555555555556,
             "#000016"
            ],
            [
             0.6666666666666666,
             "#000017"
            ],
            [
             0.7777777777777778,
             "#000018"
            ],
            [
             0.8888888888888888,
             "#000019"
            ],
            [
             1,
             "#000020"
            ]
           ]
          },
          "colorway": [
           "#000001",
           "#000002",
           "#000003",
           "#000004",
           "#000005",
           "#000006",
           "#000007",
           "#000008",
           "#000009",
           "#000010"
          ]
         }
        },
        "xaxis": {
         "anchor": "y",
         "domain": [
          0,
          1
         ],
         "tickangle": 20,
         "tickmode": "array",
         "title": {
          "font": {
           "color": "black",
           "family": "Arial",
           "size": 20
          },
          "standoff": 20,
          "text": "Distritos"
         }
        },
        "yaxis": {
         "anchor": "x",
         "domain": [
          0,
          1
         ],
         "title": {
          "font": {
           "color": "black",
           "family": "Arial",
           "size": 20
          },
          "text": "Hectáreas por Bici"
         }
        }
       }
      },
      "text/html": [
       "<div>                            <div id=\"83e14f25-6eca-443b-a988-f9c345e1b2b5\" class=\"plotly-graph-div\" style=\"height:525px; width:100%;\"></div>            <script type=\"text/javascript\">                require([\"plotly\"], function(Plotly) {                    window.PLOTLYENV=window.PLOTLYENV || {};                                    if (document.getElementById(\"83e14f25-6eca-443b-a988-f9c345e1b2b5\")) {                    Plotly.newPlot(                        \"83e14f25-6eca-443b-a988-f9c345e1b2b5\",                        [{\"alignmentgroup\":\"True\",\"hovertemplate\":\"Distrito=%{x}<br>hectareas por bici=%{y}<extra></extra>\",\"legendgroup\":\"\",\"marker\":{\"color\":\"#4682B4\",\"pattern\":{\"shape\":\"\"}},\"name\":\"\",\"offsetgroup\":\"\",\"orientation\":\"v\",\"showlegend\":false,\"textposition\":\"auto\",\"x\":[\"Centro\",\"Arganzuela\",\"Retiro\",\"Salamanca\",\"Chamart\\u00edn\",\"Tetu\\u00e1n\",\"Chamber\\u00ed\",\"Fuencarral-El Pardo\",\"Moncloa-Aravaca\",\"Latina\",\"Carabanchel\",\"Usera\",\"Puente de Vallecas\",\"Moratalaz\",\"Ciudad Lineal\",\"Hortaleza\",\"Villaverde\",\"Villa de Vallecas\",\"Vic\\u00e1lvaro\",\"San Blas-Canillejas\",\"Barajas\"],\"xaxis\":\"x\",\"y\":[37.478136200716854,69.11443850267379,77.9771754636234,54.52376137512639,110.28245192307692,100.83864915572232,66.84571428571428,2295.737451737452,598.0861182519279,343.6108108108108,170.90389294403892,196.40656565656565,246.1940789473684,239.34117647058827,155.4517006802721,370.53783783783786,463.0183486238532,1136.141280353201,1059.06006006006,337.2526475037821,1066.737913486005],\"yaxis\":\"y\",\"type\":\"bar\"}],                        {\"template\":{\"data\":{\"candlestick\":[{\"decreasing\":{\"line\":{\"color\":\"#000033\"}},\"increasing\":{\"line\":{\"color\":\"#000032\"}},\"type\":\"candlestick\"}],\"contourcarpet\":[{\"colorscale\":[[0.0,\"#000011\"],[0.1111111111111111,\"#000012\"],[0.2222222222222222,\"#000013\"],[0.3333333333333333,\"#000014\"],[0.4444444444444444,\"#000015\"],[0.5555555555555556,\"#000016\"],[0.6666666666666666,\"#000017\"],[0.7777777777777778,\"#000018\"],[0.8888888888888888,\"#000019\"],[1.0,\"#000020\"]],\"type\":\"contourcarpet\"}],\"contour\":[{\"colorscale\":[[0.0,\"#000011\"],[0.1111111111111111,\"#000012\"],[0.2222222222222222,\"#000013\"],[0.3333333333333333,\"#000014\"],[0.4444444444444444,\"#000015\"],[0.5555555555555556,\"#000016\"],[0.6666666666666666,\"#000017\"],[0.7777777777777778,\"#000018\"],[0.8888888888888888,\"#000019\"],[1.0,\"#000020\"]],\"type\":\"contour\"}],\"heatmap\":[{\"colorscale\":[[0.0,\"#000011\"],[0.1111111111111111,\"#000012\"],[0.2222222222222222,\"#000013\"],[0.3333333333333333,\"#000014\"],[0.4444444444444444,\"#000015\"],[0.5555555555555556,\"#000016\"],[0.6666666666666666,\"#000017\"],[0.7777777777777778,\"#000018\"],[0.8888888888888888,\"#000019\"],[1.0,\"#000020\"]],\"type\":\"heatmap\"}],\"histogram2d\":[{\"colorscale\":[[0.0,\"#000011\"],[0.1111111111111111,\"#000012\"],[0.2222222222222222,\"#000013\"],[0.3333333333333333,\"#000014\"],[0.4444444444444444,\"#000015\"],[0.5555555555555556,\"#000016\"],[0.6666666666666666,\"#000017\"],[0.7777777777777778,\"#000018\"],[0.8888888888888888,\"#000019\"],[1.0,\"#000020\"]],\"type\":\"histogram2d\"}],\"icicle\":[{\"textfont\":{\"color\":\"white\"},\"type\":\"icicle\"}],\"sankey\":[{\"textfont\":{\"color\":\"#000036\"},\"type\":\"sankey\"}],\"scatter\":[{\"marker\":{\"line\":{\"width\":0}},\"type\":\"scatter\"}],\"table\":[{\"cells\":{\"fill\":{\"color\":\"#000038\"},\"font\":{\"color\":\"#000037\"},\"line\":{\"color\":\"#000039\"}},\"header\":{\"fill\":{\"color\":\"#000040\"},\"font\":{\"color\":\"#000036\"},\"line\":{\"color\":\"#000039\"}},\"type\":\"table\"}],\"waterfall\":[{\"connector\":{\"line\":{\"color\":\"#000036\",\"width\":2}},\"decreasing\":{\"marker\":{\"color\":\"#000033\"}},\"increasing\":{\"marker\":{\"color\":\"#000032\"}},\"totals\":{\"marker\":{\"color\":\"#000034\"}},\"type\":\"waterfall\"}]},\"layout\":{\"coloraxis\":{\"colorscale\":[[0.0,\"#000011\"],[0.1111111111111111,\"#000012\"],[0.2222222222222222,\"#000013\"],[0.3333333333333333,\"#000014\"],[0.4444444444444444,\"#000015\"],[0.5555555555555556,\"#000016\"],[0.6666666666666666,\"#000017\"],[0.7777777777777778,\"#000018\"],[0.8888888888888888,\"#000019\"],[1.0,\"#000020\"]]},\"colorscale\":{\"diverging\":[[0.0,\"#000021\"],[0.1,\"#000022\"],[0.2,\"#000023\"],[0.3,\"#000024\"],[0.4,\"#000025\"],[0.5,\"#000026\"],[0.6,\"#000027\"],[0.7,\"#000028\"],[0.8,\"#000029\"],[0.9,\"#000030\"],[1.0,\"#000031\"]],\"sequential\":[[0.0,\"#000011\"],[0.1111111111111111,\"#000012\"],[0.2222222222222222,\"#000013\"],[0.3333333333333333,\"#000014\"],[0.4444444444444444,\"#000015\"],[0.5555555555555556,\"#000016\"],[0.6666666666666666,\"#000017\"],[0.7777777777777778,\"#000018\"],[0.8888888888888888,\"#000019\"],[1.0,\"#000020\"]],\"sequentialminus\":[[0.0,\"#000011\"],[0.1111111111111111,\"#000012\"],[0.2222222222222222,\"#000013\"],[0.3333333333333333,\"#000014\"],[0.4444444444444444,\"#000015\"],[0.5555555555555556,\"#000016\"],[0.6666666666666666,\"#000017\"],[0.7777777777777778,\"#000018\"],[0.8888888888888888,\"#000019\"],[1.0,\"#000020\"]]},\"colorway\":[\"#000001\",\"#000002\",\"#000003\",\"#000004\",\"#000005\",\"#000006\",\"#000007\",\"#000008\",\"#000009\",\"#000010\"]}},\"xaxis\":{\"anchor\":\"y\",\"domain\":[0.0,1.0],\"title\":{\"text\":\"Distritos\",\"standoff\":20,\"font\":{\"size\":20,\"family\":\"Arial\",\"color\":\"black\"}},\"tickangle\":20,\"tickmode\":\"array\"},\"yaxis\":{\"anchor\":\"x\",\"domain\":[0.0,1.0],\"title\":{\"text\":\"Hect\\u00e1reas por Bici\",\"font\":{\"size\":20,\"family\":\"Arial\",\"color\":\"black\"}}},\"legend\":{\"tracegroupgap\":0},\"margin\":{\"t\":60},\"barmode\":\"relative\"},                        {\"responsive\": true}                    ).then(function(){\n",
       "                            \n",
       "var gd = document.getElementById('83e14f25-6eca-443b-a988-f9c345e1b2b5');\n",
       "var x = new MutationObserver(function (mutations, observer) {{\n",
       "        var display = window.getComputedStyle(gd).display;\n",
       "        if (!display || display === 'none') {{\n",
       "            console.log([gd, 'removed!']);\n",
       "            Plotly.purge(gd);\n",
       "            observer.disconnect();\n",
       "        }}\n",
       "}});\n",
       "\n",
       "// Listen for the removal of the full notebook cells\n",
       "var notebookContainer = gd.closest('#notebook-container');\n",
       "if (notebookContainer) {{\n",
       "    x.observe(notebookContainer, {childList: true});\n",
       "}}\n",
       "\n",
       "// Listen for the clearing of the current output cell\n",
       "var outputEl = gd.closest('.output');\n",
       "if (outputEl) {{\n",
       "    x.observe(outputEl, {childList: true});\n",
       "}}\n",
       "\n",
       "                        })                };                });            </script>        </div>"
      ]
     },
     "metadata": {},
     "output_type": "display_data"
    }
   ],
   "source": [
    "fig = px.bar(df_con_scrapper, y='hectareas por bici', x='nombre', \n",
    "             labels={'nombre': 'Distrito', 'hectareas por bici': 'hectareas por bici'},\n",
    "             color_discrete_sequence=['#4682B4'])\n",
    "\n",
    "    # Puedes ajustar el ángulo del texto del eje x\n",
    "fig.update_xaxes(tickangle=20, tickmode='array')\n",
    "fig.update_xaxes(title_standoff=20)\n",
    "# Poner el nombre del eje x en negrita\n",
    "fig.update_xaxes(title_text='Distritos', title_font=dict(size=20, family='Arial', color='black'))\n",
    "\n",
    "# Poner el nombre del eje y en negrita\n",
    "fig.update_yaxes(title_text='Hectáreas por Bici', title_font=dict(size=20, family='Arial', color='black'))\n"
   ]
  },
  {
   "cell_type": "code",
   "execution_count": 63,
   "id": "eec94321",
   "metadata": {},
   "outputs": [
    {
     "data": {
      "text/html": [
       "<div>\n",
       "<style scoped>\n",
       "    .dataframe tbody tr th:only-of-type {\n",
       "        vertical-align: middle;\n",
       "    }\n",
       "\n",
       "    .dataframe tbody tr th {\n",
       "        vertical-align: top;\n",
       "    }\n",
       "\n",
       "    .dataframe thead th {\n",
       "        text-align: right;\n",
       "    }\n",
       "</style>\n",
       "<table border=\"1\" class=\"dataframe\">\n",
       "  <thead>\n",
       "    <tr style=\"text-align: right;\">\n",
       "      <th></th>\n",
       "      <th>nombre</th>\n",
       "      <th>area</th>\n",
       "      <th>poblacion</th>\n",
       "      <th>densidad</th>\n",
       "      <th>bicis</th>\n",
       "      <th>personas por bici</th>\n",
       "      <th>hectareas por bici</th>\n",
       "    </tr>\n",
       "  </thead>\n",
       "  <tbody>\n",
       "    <tr>\n",
       "      <th>0</th>\n",
       "      <td>Centro</td>\n",
       "      <td>522.82</td>\n",
       "      <td>131928.0</td>\n",
       "      <td>252.34</td>\n",
       "      <td>1395</td>\n",
       "      <td>94.572043</td>\n",
       "      <td>37.478136</td>\n",
       "    </tr>\n",
       "    <tr>\n",
       "      <th>3</th>\n",
       "      <td>Salamanca</td>\n",
       "      <td>539.24</td>\n",
       "      <td>143800.0</td>\n",
       "      <td>266.67</td>\n",
       "      <td>989</td>\n",
       "      <td>145.399393</td>\n",
       "      <td>54.523761</td>\n",
       "    </tr>\n",
       "    <tr>\n",
       "      <th>6</th>\n",
       "      <td>Chamberí</td>\n",
       "      <td>467.92</td>\n",
       "      <td>137401.0</td>\n",
       "      <td>293.64</td>\n",
       "      <td>700</td>\n",
       "      <td>196.287143</td>\n",
       "      <td>66.845714</td>\n",
       "    </tr>\n",
       "    <tr>\n",
       "      <th>1</th>\n",
       "      <td>Arganzuela</td>\n",
       "      <td>646.22</td>\n",
       "      <td>151965.0</td>\n",
       "      <td>235.16</td>\n",
       "      <td>935</td>\n",
       "      <td>162.529412</td>\n",
       "      <td>69.114439</td>\n",
       "    </tr>\n",
       "    <tr>\n",
       "      <th>2</th>\n",
       "      <td>Retiro</td>\n",
       "      <td>546.62</td>\n",
       "      <td>118516.0</td>\n",
       "      <td>216.82</td>\n",
       "      <td>701</td>\n",
       "      <td>169.067047</td>\n",
       "      <td>77.977175</td>\n",
       "    </tr>\n",
       "    <tr>\n",
       "      <th>5</th>\n",
       "      <td>Tetuán</td>\n",
       "      <td>537.47</td>\n",
       "      <td>153789.0</td>\n",
       "      <td>286.13</td>\n",
       "      <td>533</td>\n",
       "      <td>288.534709</td>\n",
       "      <td>100.838649</td>\n",
       "    </tr>\n",
       "    <tr>\n",
       "      <th>4</th>\n",
       "      <td>Chamartín</td>\n",
       "      <td>917.55</td>\n",
       "      <td>143422.0</td>\n",
       "      <td>156.31</td>\n",
       "      <td>832</td>\n",
       "      <td>172.382212</td>\n",
       "      <td>110.282452</td>\n",
       "    </tr>\n",
       "    <tr>\n",
       "      <th>14</th>\n",
       "      <td>Ciudad Lineal</td>\n",
       "      <td>1142.57</td>\n",
       "      <td>212529.0</td>\n",
       "      <td>186.01</td>\n",
       "      <td>735</td>\n",
       "      <td>289.155102</td>\n",
       "      <td>155.451701</td>\n",
       "    </tr>\n",
       "    <tr>\n",
       "      <th>10</th>\n",
       "      <td>Carabanchel</td>\n",
       "      <td>1404.83</td>\n",
       "      <td>243998.0</td>\n",
       "      <td>173.68</td>\n",
       "      <td>822</td>\n",
       "      <td>296.834550</td>\n",
       "      <td>170.903893</td>\n",
       "    </tr>\n",
       "    <tr>\n",
       "      <th>11</th>\n",
       "      <td>Usera</td>\n",
       "      <td>777.77</td>\n",
       "      <td>134791.0</td>\n",
       "      <td>173.30</td>\n",
       "      <td>396</td>\n",
       "      <td>340.381313</td>\n",
       "      <td>196.406566</td>\n",
       "    </tr>\n",
       "    <tr>\n",
       "      <th>13</th>\n",
       "      <td>Moratalaz</td>\n",
       "      <td>610.32</td>\n",
       "      <td>94197.0</td>\n",
       "      <td>154.34</td>\n",
       "      <td>255</td>\n",
       "      <td>369.400000</td>\n",
       "      <td>239.341176</td>\n",
       "    </tr>\n",
       "    <tr>\n",
       "      <th>12</th>\n",
       "      <td>Puente de Vallecas</td>\n",
       "      <td>1496.86</td>\n",
       "      <td>227595.0</td>\n",
       "      <td>152.05</td>\n",
       "      <td>608</td>\n",
       "      <td>374.333882</td>\n",
       "      <td>246.194079</td>\n",
       "    </tr>\n",
       "    <tr>\n",
       "      <th>19</th>\n",
       "      <td>San Blas-Canillejas</td>\n",
       "      <td>2229.24</td>\n",
       "      <td>154357.0</td>\n",
       "      <td>69.24</td>\n",
       "      <td>661</td>\n",
       "      <td>233.520424</td>\n",
       "      <td>337.252648</td>\n",
       "    </tr>\n",
       "    <tr>\n",
       "      <th>9</th>\n",
       "      <td>Latina</td>\n",
       "      <td>2542.72</td>\n",
       "      <td>233808.0</td>\n",
       "      <td>91.95</td>\n",
       "      <td>740</td>\n",
       "      <td>315.956757</td>\n",
       "      <td>343.610811</td>\n",
       "    </tr>\n",
       "    <tr>\n",
       "      <th>15</th>\n",
       "      <td>Hortaleza</td>\n",
       "      <td>2741.98</td>\n",
       "      <td>180462.0</td>\n",
       "      <td>65.81</td>\n",
       "      <td>740</td>\n",
       "      <td>243.867568</td>\n",
       "      <td>370.537838</td>\n",
       "    </tr>\n",
       "    <tr>\n",
       "      <th>16</th>\n",
       "      <td>Villaverde</td>\n",
       "      <td>2018.76</td>\n",
       "      <td>142608.0</td>\n",
       "      <td>70.64</td>\n",
       "      <td>436</td>\n",
       "      <td>327.082569</td>\n",
       "      <td>463.018349</td>\n",
       "    </tr>\n",
       "    <tr>\n",
       "      <th>8</th>\n",
       "      <td>Moncloa-Aravaca</td>\n",
       "      <td>4653.11</td>\n",
       "      <td>116903.0</td>\n",
       "      <td>25.12</td>\n",
       "      <td>778</td>\n",
       "      <td>150.260925</td>\n",
       "      <td>598.086118</td>\n",
       "    </tr>\n",
       "    <tr>\n",
       "      <th>18</th>\n",
       "      <td>Vicálvaro</td>\n",
       "      <td>3526.67</td>\n",
       "      <td>70051.0</td>\n",
       "      <td>19.86</td>\n",
       "      <td>333</td>\n",
       "      <td>210.363363</td>\n",
       "      <td>1059.060060</td>\n",
       "    </tr>\n",
       "    <tr>\n",
       "      <th>20</th>\n",
       "      <td>Barajas</td>\n",
       "      <td>4192.28</td>\n",
       "      <td>46876.0</td>\n",
       "      <td>11.18</td>\n",
       "      <td>393</td>\n",
       "      <td>119.277354</td>\n",
       "      <td>1066.737913</td>\n",
       "    </tr>\n",
       "    <tr>\n",
       "      <th>17</th>\n",
       "      <td>Villa de Vallecas</td>\n",
       "      <td>5146.72</td>\n",
       "      <td>104421.0</td>\n",
       "      <td>20.29</td>\n",
       "      <td>453</td>\n",
       "      <td>230.509934</td>\n",
       "      <td>1136.141280</td>\n",
       "    </tr>\n",
       "    <tr>\n",
       "      <th>7</th>\n",
       "      <td>Fuencarral-El Pardo</td>\n",
       "      <td>23783.84</td>\n",
       "      <td>238756.0</td>\n",
       "      <td>10.04</td>\n",
       "      <td>1036</td>\n",
       "      <td>230.459459</td>\n",
       "      <td>2295.737452</td>\n",
       "    </tr>\n",
       "  </tbody>\n",
       "</table>\n",
       "</div>"
      ],
      "text/plain": [
       "                 nombre      area  poblacion  densidad  bicis  \\\n",
       "0                Centro    522.82   131928.0    252.34   1395   \n",
       "3             Salamanca    539.24   143800.0    266.67    989   \n",
       "6              Chamberí    467.92   137401.0    293.64    700   \n",
       "1            Arganzuela    646.22   151965.0    235.16    935   \n",
       "2                Retiro    546.62   118516.0    216.82    701   \n",
       "5                Tetuán    537.47   153789.0    286.13    533   \n",
       "4             Chamartín    917.55   143422.0    156.31    832   \n",
       "14        Ciudad Lineal   1142.57   212529.0    186.01    735   \n",
       "10          Carabanchel   1404.83   243998.0    173.68    822   \n",
       "11                Usera    777.77   134791.0    173.30    396   \n",
       "13            Moratalaz    610.32    94197.0    154.34    255   \n",
       "12   Puente de Vallecas   1496.86   227595.0    152.05    608   \n",
       "19  San Blas-Canillejas   2229.24   154357.0     69.24    661   \n",
       "9                Latina   2542.72   233808.0     91.95    740   \n",
       "15            Hortaleza   2741.98   180462.0     65.81    740   \n",
       "16           Villaverde   2018.76   142608.0     70.64    436   \n",
       "8       Moncloa-Aravaca   4653.11   116903.0     25.12    778   \n",
       "18            Vicálvaro   3526.67    70051.0     19.86    333   \n",
       "20              Barajas   4192.28    46876.0     11.18    393   \n",
       "17    Villa de Vallecas   5146.72   104421.0     20.29    453   \n",
       "7   Fuencarral-El Pardo  23783.84   238756.0     10.04   1036   \n",
       "\n",
       "    personas por bici  hectareas por bici  \n",
       "0           94.572043           37.478136  \n",
       "3          145.399393           54.523761  \n",
       "6          196.287143           66.845714  \n",
       "1          162.529412           69.114439  \n",
       "2          169.067047           77.977175  \n",
       "5          288.534709          100.838649  \n",
       "4          172.382212          110.282452  \n",
       "14         289.155102          155.451701  \n",
       "10         296.834550          170.903893  \n",
       "11         340.381313          196.406566  \n",
       "13         369.400000          239.341176  \n",
       "12         374.333882          246.194079  \n",
       "19         233.520424          337.252648  \n",
       "9          315.956757          343.610811  \n",
       "15         243.867568          370.537838  \n",
       "16         327.082569          463.018349  \n",
       "8          150.260925          598.086118  \n",
       "18         210.363363         1059.060060  \n",
       "20         119.277354         1066.737913  \n",
       "17         230.509934         1136.141280  \n",
       "7          230.459459         2295.737452  "
      ]
     },
     "execution_count": 63,
     "metadata": {},
     "output_type": "execute_result"
    }
   ],
   "source": [
    "df_con_scrapper.sort_values(by='hectareas por bici')"
   ]
  },
  {
   "cell_type": "code",
   "execution_count": 129,
   "id": "eb60a6b5",
   "metadata": {},
   "outputs": [
    {
     "ename": "TypeError",
     "evalue": "'module' object is not callable",
     "output_type": "error",
     "traceback": [
      "\u001b[1;31m---------------------------------------------------------------------------\u001b[0m",
      "\u001b[1;31mTypeError\u001b[0m                                 Traceback (most recent call last)",
      "Cell \u001b[1;32mIn[129], line 9\u001b[0m\n\u001b[0;32m      1\u001b[0m hola\u001b[38;5;241m=\u001b[39m(\n\u001b[0;32m      2\u001b[0m     ggplot(df_con_scrapper, aes(x\u001b[38;5;241m=\u001b[39m\u001b[38;5;124m'\u001b[39m\u001b[38;5;124mnombre\u001b[39m\u001b[38;5;124m'\u001b[39m, y\u001b[38;5;241m=\u001b[39m\u001b[38;5;124m'\u001b[39m\u001b[38;5;124mbicis\u001b[39m\u001b[38;5;124m'\u001b[39m)) \u001b[38;5;241m+\u001b[39m\n\u001b[0;32m      3\u001b[0m     geom_bar(stat\u001b[38;5;241m=\u001b[39m\u001b[38;5;124m\"\u001b[39m\u001b[38;5;124midentity\u001b[39m\u001b[38;5;124m\"\u001b[39m) \u001b[38;5;241m+\u001b[39m\n\u001b[1;32m   (...)\u001b[0m\n\u001b[0;32m      6\u001b[0m     theme(axis_text_x\u001b[38;5;241m=\u001b[39melement_text(angle\u001b[38;5;241m=\u001b[39m\u001b[38;5;241m45\u001b[39m, hjust\u001b[38;5;241m=\u001b[39m\u001b[38;5;241m1\u001b[39m, color\u001b[38;5;241m=\u001b[39m\u001b[38;5;124m\"\u001b[39m\u001b[38;5;124mblack\u001b[39m\u001b[38;5;124m\"\u001b[39m))\n\u001b[0;32m      7\u001b[0m )\n\u001b[1;32m----> 9\u001b[0m px(hola)\n",
      "\u001b[1;31mTypeError\u001b[0m: 'module' object is not callable"
     ]
    }
   ],
   "source": []
  },
  {
   "cell_type": "code",
   "execution_count": 66,
   "id": "fc59262a",
   "metadata": {},
   "outputs": [
    {
     "data": {
      "image/png": "[encoded data removed]",
      "text/plain": [
       "<Figure size 640x480 with 1 Axes>"
      ]
     },
     "metadata": {
      "image/png": {
       "height": 480,
       "width": 640
      }
     },
     "output_type": "display_data"
    },
    {
     "data": {
      "text/plain": [
       "<Figure Size: (640 x 480)>"
      ]
     },
     "execution_count": 66,
     "metadata": {},
     "output_type": "execute_result"
    }
   ],
   "source": [
    "from plotnine import ggplot, aes, geom_bar, scale_x_discrete, scale_y_discrete,scale_y_continuous, theme, element_text, ggtitle, element_blank, element_blank, labs\n",
    "\n",
    "(\n",
    "ggplot(df_con_scrapper, aes(x='nombre',y='bicis'))+\n",
    "    geom_bar(stat=\"identity\")+\n",
    "    labs(y = \"Bicicletas\", x='Distritos')+\n",
    "    ggtitle('Salario medio por edad y educación')+\n",
    "    theme(axis_text_x = element_text(angle = 45, hjust = 1,color = \"black\"))\n",
    "\n",
    "\n",
    ")"
   ]
  },
  {
   "cell_type": "code",
   "execution_count": 148,
   "id": "adc2527d",
   "metadata": {},
   "outputs": [
    {
     "ename": "ImportError",
     "evalue": "cannot import name 'gg2mpl' from 'plotnine' (C:\\Users\\alexb\\anaconda3\\Lib\\site-packages\\plotnine\\__init__.py)",
     "output_type": "error",
     "traceback": [
      "\u001b[1;31m---------------------------------------------------------------------------\u001b[0m",
      "\u001b[1;31mImportError\u001b[0m                               Traceback (most recent call last)",
      "Cell \u001b[1;32mIn[148], line 2\u001b[0m\n\u001b[0;32m      1\u001b[0m \u001b[38;5;28;01mfrom\u001b[39;00m \u001b[38;5;21;01mplotnine\u001b[39;00m \u001b[38;5;28;01mimport\u001b[39;00m ggplot, aes, geom_bar, scale_x_discrete, scale_y_discrete,scale_y_continuous, theme, element_text, ggtitle, element_blank, element_blank, labs\n\u001b[1;32m----> 2\u001b[0m \u001b[38;5;28;01mfrom\u001b[39;00m \u001b[38;5;21;01mplotnine\u001b[39;00m \u001b[38;5;28;01mimport\u001b[39;00m gg2mpl\n\u001b[0;32m      3\u001b[0m plot\u001b[38;5;241m=\u001b[39m(\n\u001b[0;32m      4\u001b[0m ggplot(df_con_scrapper, aes(x\u001b[38;5;241m=\u001b[39m\u001b[38;5;124m'\u001b[39m\u001b[38;5;124mnombre\u001b[39m\u001b[38;5;124m'\u001b[39m,y\u001b[38;5;241m=\u001b[39m\u001b[38;5;124m'\u001b[39m\u001b[38;5;124mbicis\u001b[39m\u001b[38;5;124m'\u001b[39m))\u001b[38;5;241m+\u001b[39m\n\u001b[0;32m      5\u001b[0m     geom_bar(stat\u001b[38;5;241m=\u001b[39m\u001b[38;5;124m\"\u001b[39m\u001b[38;5;124midentity\u001b[39m\u001b[38;5;124m\"\u001b[39m)\u001b[38;5;241m+\u001b[39m\n\u001b[1;32m   (...)\u001b[0m\n\u001b[0;32m     10\u001b[0m \n\u001b[0;32m     11\u001b[0m )\n\u001b[0;32m     13\u001b[0m plotly_chart(plot\u001b[38;5;241m.\u001b[39mto_plotly())\n",
      "\u001b[1;31mImportError\u001b[0m: cannot import name 'gg2mpl' from 'plotnine' (C:\\Users\\alexb\\anaconda3\\Lib\\site-packages\\plotnine\\__init__.py)"
     ]
    }
   ],
   "source": [
    "from plotnine import ggplot, aes, geom_bar, scale_x_discrete, scale_y_discrete,scale_y_continuous, theme, element_text, ggtitle, element_blank, element_blank, labs\n",
    "\n",
    "(\n",
    "ggplot(df_con_scrapper, aes(x='nombre',y='bicis'))+\n",
    "    geom_bar(stat=\"identity\")+\n",
    "    labs(y = \"Bicicletas\", x='Distritos')+\n",
    "    ggtitle('Salario medio por edad y educación')+\n",
    "    theme(axis_text_x = element_text(angle = 45, hjust = 1,color = \"black\"))\n",
    "\n",
    "\n",
    ")"
   ]
  },
  {
   "cell_type": "code",
   "execution_count": 68,
   "id": "e968bf31",
   "metadata": {},
   "outputs": [
    {
     "data": {
      "text/html": [
       "<div>\n",
       "<style scoped>\n",
       "    .dataframe tbody tr th:only-of-type {\n",
       "        vertical-align: middle;\n",
       "    }\n",
       "\n",
       "    .dataframe tbody tr th {\n",
       "        vertical-align: top;\n",
       "    }\n",
       "\n",
       "    .dataframe thead th {\n",
       "        text-align: right;\n",
       "    }\n",
       "</style>\n",
       "<table border=\"1\" class=\"dataframe\">\n",
       "  <thead>\n",
       "    <tr style=\"text-align: right;\">\n",
       "      <th></th>\n",
       "      <th>activate</th>\n",
       "      <th>address</th>\n",
       "      <th>dock_bikes</th>\n",
       "      <th>free_bases</th>\n",
       "      <th>geometry</th>\n",
       "      <th>id</th>\n",
       "      <th>light</th>\n",
       "      <th>name</th>\n",
       "      <th>no_available</th>\n",
       "      <th>number</th>\n",
       "      <th>reservations_count</th>\n",
       "      <th>total_bases</th>\n",
       "      <th>virtualDelete</th>\n",
       "      <th>geofenced_capacity</th>\n",
       "      <th>geometry_inverted</th>\n",
       "      <th>distrito</th>\n",
       "    </tr>\n",
       "  </thead>\n",
       "  <tbody>\n",
       "    <tr>\n",
       "      <th>0</th>\n",
       "      <td>1</td>\n",
       "      <td>Avenida del Ensanche de Vallecas, 9,</td>\n",
       "      <td>9</td>\n",
       "      <td>18</td>\n",
       "      <td>POINT (40.37043968 -3.61253028)</td>\n",
       "      <td>2190</td>\n",
       "      <td>2</td>\n",
       "      <td>453 - Avenida del Ensanche de Vallecas, 9</td>\n",
       "      <td>0</td>\n",
       "      <td>453</td>\n",
       "      <td>0</td>\n",
       "      <td>27</td>\n",
       "      <td>False</td>\n",
       "      <td>20</td>\n",
       "      <td>POINT (-3.61253028 40.37043968)</td>\n",
       "      <td>Villa de Vallecas</td>\n",
       "    </tr>\n",
       "    <tr>\n",
       "      <th>1</th>\n",
       "      <td>1</td>\n",
       "      <td>Paseo de la Chopera,33,Comunidad de Madrid España</td>\n",
       "      <td>20</td>\n",
       "      <td>3</td>\n",
       "      <td>POINT (40.39500000000003 -3.700399664723875)</td>\n",
       "      <td>2205</td>\n",
       "      <td>1</td>\n",
       "      <td>267 - Paseo de la Chopera, 33</td>\n",
       "      <td>0</td>\n",
       "      <td>267</td>\n",
       "      <td>0</td>\n",
       "      <td>23</td>\n",
       "      <td>False</td>\n",
       "      <td>20</td>\n",
       "      <td>POINT (-3.700399664723875 40.39500000000003)</td>\n",
       "      <td>Arganzuela</td>\n",
       "    </tr>\n",
       "    <tr>\n",
       "      <th>2</th>\n",
       "      <td>1</td>\n",
       "      <td>Paseo de la Castellana nº 164,Comunidad de Mad...</td>\n",
       "      <td>3</td>\n",
       "      <td>20</td>\n",
       "      <td>POINT (40.4591366 -3.6894151)</td>\n",
       "      <td>2225</td>\n",
       "      <td>0</td>\n",
       "      <td>157 - Castellana 164.</td>\n",
       "      <td>0</td>\n",
       "      <td>157</td>\n",
       "      <td>0</td>\n",
       "      <td>23</td>\n",
       "      <td>False</td>\n",
       "      <td>20</td>\n",
       "      <td>POINT (-3.6894151 40.4591366)</td>\n",
       "      <td>Chamartín</td>\n",
       "    </tr>\n",
       "    <tr>\n",
       "      <th>3</th>\n",
       "      <td>1</td>\n",
       "      <td>Guetaria , 84b,</td>\n",
       "      <td>12</td>\n",
       "      <td>12</td>\n",
       "      <td>POINT (40.36916772 -3.71569102)</td>\n",
       "      <td>2226</td>\n",
       "      <td>2</td>\n",
       "      <td>395b - 395 - Guetaria  84b</td>\n",
       "      <td>0</td>\n",
       "      <td>395b</td>\n",
       "      <td>0</td>\n",
       "      <td>24</td>\n",
       "      <td>False</td>\n",
       "      <td>20</td>\n",
       "      <td>POINT (-3.71569102 40.36916772)</td>\n",
       "      <td>Usera</td>\n",
       "    </tr>\n",
       "    <tr>\n",
       "      <th>4</th>\n",
       "      <td>1</td>\n",
       "      <td>Calle de Gloria Fuertes, 181,</td>\n",
       "      <td>10</td>\n",
       "      <td>17</td>\n",
       "      <td>POINT (40.4956969 -3.7249527)</td>\n",
       "      <td>2151</td>\n",
       "      <td>2</td>\n",
       "      <td>592 - Calle de Gloria Fuertes, 181</td>\n",
       "      <td>0</td>\n",
       "      <td>592</td>\n",
       "      <td>0</td>\n",
       "      <td>27</td>\n",
       "      <td>False</td>\n",
       "      <td>20</td>\n",
       "      <td>POINT (-3.7249527 40.4956969)</td>\n",
       "      <td>Fuencarral - El Pardo</td>\n",
       "    </tr>\n",
       "    <tr>\n",
       "      <th>...</th>\n",
       "      <td>...</td>\n",
       "      <td>...</td>\n",
       "      <td>...</td>\n",
       "      <td>...</td>\n",
       "      <td>...</td>\n",
       "      <td>...</td>\n",
       "      <td>...</td>\n",
       "      <td>...</td>\n",
       "      <td>...</td>\n",
       "      <td>...</td>\n",
       "      <td>...</td>\n",
       "      <td>...</td>\n",
       "      <td>...</td>\n",
       "      <td>...</td>\n",
       "      <td>...</td>\n",
       "      <td>...</td>\n",
       "    </tr>\n",
       "    <tr>\n",
       "      <th>604</th>\n",
       "      <td>1</td>\n",
       "      <td>Calle León Gil de Palacio nº 3,</td>\n",
       "      <td>18</td>\n",
       "      <td>6</td>\n",
       "      <td>POINT (40.4029202 -3.6788343)</td>\n",
       "      <td>1584</td>\n",
       "      <td>1</td>\n",
       "      <td>178 - Junta Municipal Retiro</td>\n",
       "      <td>0</td>\n",
       "      <td>178</td>\n",
       "      <td>0</td>\n",
       "      <td>24</td>\n",
       "      <td>False</td>\n",
       "      <td>20</td>\n",
       "      <td>POINT (-3.6788343 40.4029202)</td>\n",
       "      <td>Retiro</td>\n",
       "    </tr>\n",
       "    <tr>\n",
       "      <th>605</th>\n",
       "      <td>1</td>\n",
       "      <td>Calle San Modesto, 42,</td>\n",
       "      <td>4</td>\n",
       "      <td>20</td>\n",
       "      <td>POINT (40.4858012 -3.6923396)</td>\n",
       "      <td>2312</td>\n",
       "      <td>0</td>\n",
       "      <td>598 - Calle San Modesto, 42</td>\n",
       "      <td>0</td>\n",
       "      <td>598</td>\n",
       "      <td>0</td>\n",
       "      <td>24</td>\n",
       "      <td>False</td>\n",
       "      <td>20</td>\n",
       "      <td>POINT (-3.6923396 40.4858012)</td>\n",
       "      <td>Fuencarral - El Pardo</td>\n",
       "    </tr>\n",
       "    <tr>\n",
       "      <th>606</th>\n",
       "      <td>1</td>\n",
       "      <td>Calle San Restituto, 74,</td>\n",
       "      <td>16</td>\n",
       "      <td>7</td>\n",
       "      <td>POINT (40.46588016 -3.71693008)</td>\n",
       "      <td>2084</td>\n",
       "      <td>2</td>\n",
       "      <td>307 - Calle San Restituto, 74</td>\n",
       "      <td>0</td>\n",
       "      <td>307</td>\n",
       "      <td>0</td>\n",
       "      <td>23</td>\n",
       "      <td>False</td>\n",
       "      <td>20</td>\n",
       "      <td>POINT (-3.71693008 40.46588016)</td>\n",
       "      <td>Moncloa - Aravaca</td>\n",
       "    </tr>\n",
       "    <tr>\n",
       "      <th>607</th>\n",
       "      <td>1</td>\n",
       "      <td>Calle Serrano Galvache,</td>\n",
       "      <td>2</td>\n",
       "      <td>21</td>\n",
       "      <td>POINT (40.471382 -3.6679379)</td>\n",
       "      <td>2021</td>\n",
       "      <td>0</td>\n",
       "      <td>486 - Calle Serrano Galvache</td>\n",
       "      <td>0</td>\n",
       "      <td>486</td>\n",
       "      <td>0</td>\n",
       "      <td>23</td>\n",
       "      <td>False</td>\n",
       "      <td>20</td>\n",
       "      <td>POINT (-3.6679379 40.471382)</td>\n",
       "      <td>Ciudad Lineal</td>\n",
       "    </tr>\n",
       "    <tr>\n",
       "      <th>608</th>\n",
       "      <td>1</td>\n",
       "      <td>Paseo de la Habana nº 63,</td>\n",
       "      <td>13</td>\n",
       "      <td>10</td>\n",
       "      <td>POINT (40.4543852 -3.6835926)</td>\n",
       "      <td>1565</td>\n",
       "      <td>2</td>\n",
       "      <td>159 - Paseo de la Habana 63</td>\n",
       "      <td>0</td>\n",
       "      <td>159</td>\n",
       "      <td>0</td>\n",
       "      <td>23</td>\n",
       "      <td>False</td>\n",
       "      <td>20</td>\n",
       "      <td>POINT (-3.6835926 40.4543852)</td>\n",
       "      <td>Chamartín</td>\n",
       "    </tr>\n",
       "  </tbody>\n",
       "</table>\n",
       "<p>609 rows × 16 columns</p>\n",
       "</div>"
      ],
      "text/plain": [
       "     activate                                            address  dock_bikes  \\\n",
       "0           1               Avenida del Ensanche de Vallecas, 9,           9   \n",
       "1           1  Paseo de la Chopera,33,Comunidad de Madrid España          20   \n",
       "2           1  Paseo de la Castellana nº 164,Comunidad de Mad...           3   \n",
       "3           1                                    Guetaria , 84b,          12   \n",
       "4           1                      Calle de Gloria Fuertes, 181,          10   \n",
       "..        ...                                                ...         ...   \n",
       "604         1                    Calle León Gil de Palacio nº 3,          18   \n",
       "605         1                             Calle San Modesto, 42,           4   \n",
       "606         1                           Calle San Restituto, 74,          16   \n",
       "607         1                            Calle Serrano Galvache,           2   \n",
       "608         1                          Paseo de la Habana nº 63,          13   \n",
       "\n",
       "     free_bases                                      geometry    id  light  \\\n",
       "0            18               POINT (40.37043968 -3.61253028)  2190      2   \n",
       "1             3  POINT (40.39500000000003 -3.700399664723875)  2205      1   \n",
       "2            20                 POINT (40.4591366 -3.6894151)  2225      0   \n",
       "3            12               POINT (40.36916772 -3.71569102)  2226      2   \n",
       "4            17                 POINT (40.4956969 -3.7249527)  2151      2   \n",
       "..          ...                                           ...   ...    ...   \n",
       "604           6                 POINT (40.4029202 -3.6788343)  1584      1   \n",
       "605          20                 POINT (40.4858012 -3.6923396)  2312      0   \n",
       "606           7               POINT (40.46588016 -3.71693008)  2084      2   \n",
       "607          21                  POINT (40.471382 -3.6679379)  2021      0   \n",
       "608          10                 POINT (40.4543852 -3.6835926)  1565      2   \n",
       "\n",
       "                                          name  no_available number  \\\n",
       "0    453 - Avenida del Ensanche de Vallecas, 9             0    453   \n",
       "1                267 - Paseo de la Chopera, 33             0    267   \n",
       "2                        157 - Castellana 164.             0    157   \n",
       "3                   395b - 395 - Guetaria  84b             0   395b   \n",
       "4           592 - Calle de Gloria Fuertes, 181             0    592   \n",
       "..                                         ...           ...    ...   \n",
       "604               178 - Junta Municipal Retiro             0    178   \n",
       "605                598 - Calle San Modesto, 42             0    598   \n",
       "606              307 - Calle San Restituto, 74             0    307   \n",
       "607               486 - Calle Serrano Galvache             0    486   \n",
       "608                159 - Paseo de la Habana 63             0    159   \n",
       "\n",
       "     reservations_count  total_bases  virtualDelete  geofenced_capacity  \\\n",
       "0                     0           27          False                  20   \n",
       "1                     0           23          False                  20   \n",
       "2                     0           23          False                  20   \n",
       "3                     0           24          False                  20   \n",
       "4                     0           27          False                  20   \n",
       "..                  ...          ...            ...                 ...   \n",
       "604                   0           24          False                  20   \n",
       "605                   0           24          False                  20   \n",
       "606                   0           23          False                  20   \n",
       "607                   0           23          False                  20   \n",
       "608                   0           23          False                  20   \n",
       "\n",
       "                                geometry_inverted               distrito  \n",
       "0                 POINT (-3.61253028 40.37043968)      Villa de Vallecas  \n",
       "1    POINT (-3.700399664723875 40.39500000000003)             Arganzuela  \n",
       "2                   POINT (-3.6894151 40.4591366)              Chamartín  \n",
       "3                 POINT (-3.71569102 40.36916772)                  Usera  \n",
       "4                   POINT (-3.7249527 40.4956969)  Fuencarral - El Pardo  \n",
       "..                                            ...                    ...  \n",
       "604                 POINT (-3.6788343 40.4029202)                 Retiro  \n",
       "605                 POINT (-3.6923396 40.4858012)  Fuencarral - El Pardo  \n",
       "606               POINT (-3.71693008 40.46588016)      Moncloa - Aravaca  \n",
       "607                  POINT (-3.6679379 40.471382)          Ciudad Lineal  \n",
       "608                 POINT (-3.6835926 40.4543852)              Chamartín  \n",
       "\n",
       "[609 rows x 16 columns]"
      ]
     },
     "execution_count": 68,
     "metadata": {},
     "output_type": "execute_result"
    }
   ],
   "source": [
    "df_distrito"
   ]
  },
  {
   "cell_type": "code",
   "execution_count": 69,
   "id": "f3a3ff71",
   "metadata": {},
   "outputs": [
    {
     "name": "stderr",
     "output_type": "stream",
     "text": [
      "C:\\Users\\alexb\\anaconda3\\Lib\\site-packages\\plotnine\\ggplot.py:587: PlotnineWarning: Saving 6.4 x 4.8 in image.\n",
      "C:\\Users\\alexb\\anaconda3\\Lib\\site-packages\\plotnine\\ggplot.py:588: PlotnineWarning: Filename: dotplot_ratings.png\n"
     ]
    }
   ],
   "source": [
    "from plotnine import ggplot, aes, geom_dotplot, labs,geom_boxplot,geom_density, facet_wrap\n",
    "\n",
    "(ggplot(df_distrito, aes(x='total_bases', y=1, fill='distrito')) + \n",
    "    geom_dotplot(stackgroups=True, method='histodot', binwidth=0.1) + \n",
    "    labs(title='Dotplot de Ratings por Temporada')\n",
    ").save(filename='dotplot_ratings.png', format='png')"
   ]
  },
  {
   "cell_type": "code",
   "execution_count": 70,
   "id": "df048ed5",
   "metadata": {},
   "outputs": [
    {
     "data": {
      "image/png": "[encoded data removed]",
      "text/plain": [
       "<Figure size 640x480 with 1 Axes>"
      ]
     },
     "metadata": {
      "image/png": {
       "height": 480,
       "width": 640
      }
     },
     "output_type": "display_data"
    },
    {
     "data": {
      "text/plain": [
       "<Figure Size: (640 x 480)>"
      ]
     },
     "execution_count": 70,
     "metadata": {},
     "output_type": "execute_result"
    }
   ],
   "source": [
    "(ggplot(df_distrito, aes(x = 'distrito', y = 'total_bases')) +\n",
    "  geom_boxplot()+\n",
    "  theme(axis_text_x = element_text(angle = 45, hjust = 1,color = \"black\"))\n",
    "\n",
    ")"
   ]
  },
  {
   "cell_type": "code",
   "execution_count": 71,
   "id": "c718104f",
   "metadata": {},
   "outputs": [
    {
     "data": {
      "image/png": "[encoded data removed]",
      "text/plain": [
       "<Figure size 640x480 with 1 Axes>"
      ]
     },
     "metadata": {
      "image/png": {
       "height": 480,
       "width": 640
      }
     },
     "output_type": "display_data"
    },
    {
     "data": {
      "text/plain": [
       "<Figure Size: (640 x 480)>"
      ]
     },
     "execution_count": 71,
     "metadata": {},
     "output_type": "execute_result"
    }
   ],
   "source": [
    "(ggplot(df_distrito, aes(x='total_bases', fill='distrito')) + \n",
    "  geom_density(aes(color='distrito'), alpha=0.2)#+\n",
    "  #facet_wrap('~distrito')\n",
    "\n",
    ")"
   ]
  },
  {
   "cell_type": "code",
   "execution_count": 90,
   "id": "8a1b90a3",
   "metadata": {},
   "outputs": [
    {
     "data": {
      "text/plain": [
       "array(['Villa de Vallecas', 'Arganzuela', 'Chamartín', 'Usera',\n",
       "       'Fuencarral - El Pardo', 'Carabanchel', 'Hortaleza', 'Latina',\n",
       "       'San Blas - Canillejas', 'Ciudad Lineal', 'Moncloa - Aravaca',\n",
       "       'Centro', 'Retiro', 'Salamanca', 'Tetuán', 'Villaverde',\n",
       "       'Puente de Vallecas', 'Vicálvaro', 'Barajas', 'Chamberí',\n",
       "       'Moratalaz'], dtype=object)"
      ]
     },
     "execution_count": 90,
     "metadata": {},
     "output_type": "execute_result"
    }
   ],
   "source": [
    "df_distrito['distrito'].unique()"
   ]
  },
  {
   "cell_type": "code",
   "execution_count": 151,
   "id": "506f43c6",
   "metadata": {},
   "outputs": [
    {
     "data": {
      "image/png": "[encoded data removed]",
      "text/plain": [
       "<Figure size 640x480 with 1 Axes>"
      ]
     },
     "metadata": {
      "image/png": {
       "height": 480,
       "width": 640
      }
     },
     "output_type": "display_data"
    },
    {
     "data": {
      "text/plain": [
       "<Figure Size: (640 x 480)>"
      ]
     },
     "execution_count": 151,
     "metadata": {},
     "output_type": "execute_result"
    }
   ],
   "source": [
    "def dame_densidad_tamaño_estacion(df_distrito,distrito):\n",
    "    df_distrito=df_distrito.rename(columns={'distrito': 'Distrito'})\n",
    "    return (ggplot(df_distrito.loc[df_distrito['Distrito'].isin(distrito)], aes(x='total_bases', fill='Distrito')) + \n",
    "      geom_density(alpha=0.5)+\n",
    "      scale_x_continuous(breaks=range(0, 41, 5), minor_breaks=[])+\n",
    "      scale_y_continuous(minor_breaks=[])+\n",
    "      theme_bw()+\n",
    "      theme(legend_title=element_text(weight='bold'),\n",
    "            axis_text=element_text(weight='bold'),\n",
    "           plot_title = element_text(color = \"black\", face=\"bold\"),\n",
    "           axis_title = element_text(size = 14, color = \"black\", face=\"bold\"),\n",
    "           panel_background = element_blank(),\n",
    "           axis_line = element_line(color = \"black\", size=1),\n",
    "           axis_ticks = element_line(color = \"black\", size=1))+\n",
    "      labs(x='Numero de bicis por estación', y='Densidad', title='Densidad tipo de estaciones', color='Distritos')\n",
    "    )\n",
    "dame_densidad_tamaño_estacion(df_distrito,['Centro','Arganzuela','Salamanca','Villaverde'])"
   ]
  },
  {
   "cell_type": "code",
   "execution_count": 24,
   "id": "3d78bafd",
   "metadata": {},
   "outputs": [],
   "source": [
    "hola=df_distrito.groupby(['distrito','light']).count().reset_index()[['distrito','light','number']]"
   ]
  },
  {
   "cell_type": "code",
   "execution_count": null,
   "id": "2d8b236d",
   "metadata": {},
   "outputs": [],
   "source": []
  },
  {
   "cell_type": "code",
   "execution_count": 152,
   "id": "ea5b1591",
   "metadata": {},
   "outputs": [
    {
     "data": {
      "image/png": "[encoded data removed]",
      "text/plain": [
       "<Figure size 640x480 with 1 Axes>"
      ]
     },
     "metadata": {
      "image/png": {
       "height": 480,
       "width": 640
      }
     },
     "output_type": "display_data"
    },
    {
     "data": {
      "text/plain": [
       "<Figure Size: (640 x 480)>"
      ]
     },
     "execution_count": 152,
     "metadata": {},
     "output_type": "execute_result"
    }
   ],
   "source": [
    "from plotnine import ggplot, aes, geom_dotplot, labs,geom_boxplot,geom_density, facet_wrap,scale_fill_manual\n",
    "\n",
    "def dame_luz(df_distrito,distrito, formato='dodge'):\n",
    "    return (ggplot(df_distrito.loc[df_distrito['distrito'].isin(distrito)], aes(x='distrito', fill='factor(light)')) + \n",
    "    geom_bar(position=formato) + \n",
    "    scale_fill_manual(values=[\"#1f78b4\", \"#33a02c\", \"#e31a1c\", \"#ff7f00\"],name = \"Nivel de ocupación\",labels = ['Bajo','Medio','Alto','No disponible'])+\n",
    "    theme(panel_grid_major_x=element_blank(),\n",
    "          panel_background=element_rect(fill='#d4d4d4'),\n",
    "          panel_grid_major_y=element_line(size=0.5))+\n",
    "    scale_y_continuous(breaks=range(0, 41, 5),\n",
    "                       minor_breaks=range(0, 41, 5))+\n",
    "    labs(x='Estaciones', y='Distritos')+\n",
    "    expand_limits(y=(0, 41))\n",
    ")#.save(filename='dotplot_ratings.png', format='png')\n",
    "dame_luz(df_distrito,['Centro','Arganzuela','Salamanca','Villaverde'])"
   ]
  },
  {
   "cell_type": "markdown",
   "id": "ca704d33",
   "metadata": {},
   "source": [
    "Cual es la estacion en porcentaje con más estaciones con nivel de ocupacion bajo"
   ]
  },
  {
   "cell_type": "code",
   "execution_count": 187,
   "id": "25847168",
   "metadata": {},
   "outputs": [
    {
     "data": {
      "text/plain": [
       "'Chamartín'"
      ]
     },
     "execution_count": 187,
     "metadata": {},
     "output_type": "execute_result"
    }
   ],
   "source": [
    "low=df_distrito.loc[df_distrito['light']==0]['distrito'].value_counts().reset_index().rename(columns={'count': 'light'})\n",
    "result=(df_distrito['distrito'].value_counts().reset_index()).merge(low,on='distrito')\n",
    "result['porcentaje']=result['light']/result['count']\n",
    "result.loc[result['porcentaje']==result['porcentaje'].max()][['distrito','porcentaje']].iloc[0, 0]"
   ]
  },
  {
   "cell_type": "code",
   "execution_count": 164,
   "id": "89128dce",
   "metadata": {},
   "outputs": [
    {
     "data": {
      "text/html": [
       "<div>\n",
       "<style scoped>\n",
       "    .dataframe tbody tr th:only-of-type {\n",
       "        vertical-align: middle;\n",
       "    }\n",
       "\n",
       "    .dataframe tbody tr th {\n",
       "        vertical-align: top;\n",
       "    }\n",
       "\n",
       "    .dataframe thead th {\n",
       "        text-align: right;\n",
       "    }\n",
       "</style>\n",
       "<table border=\"1\" class=\"dataframe\">\n",
       "  <thead>\n",
       "    <tr style=\"text-align: right;\">\n",
       "      <th></th>\n",
       "      <th>distrito</th>\n",
       "      <th>count_x</th>\n",
       "      <th>count_y</th>\n",
       "    </tr>\n",
       "  </thead>\n",
       "  <tbody>\n",
       "    <tr>\n",
       "      <th>0</th>\n",
       "      <td>Centro</td>\n",
       "      <td>61</td>\n",
       "      <td>39</td>\n",
       "    </tr>\n",
       "    <tr>\n",
       "      <th>1</th>\n",
       "      <td>Fuencarral - El Pardo</td>\n",
       "      <td>43</td>\n",
       "      <td>13</td>\n",
       "    </tr>\n",
       "    <tr>\n",
       "      <th>2</th>\n",
       "      <td>Salamanca</td>\n",
       "      <td>42</td>\n",
       "      <td>30</td>\n",
       "    </tr>\n",
       "    <tr>\n",
       "      <th>3</th>\n",
       "      <td>Arganzuela</td>\n",
       "      <td>39</td>\n",
       "      <td>6</td>\n",
       "    </tr>\n",
       "    <tr>\n",
       "      <th>4</th>\n",
       "      <td>Chamartín</td>\n",
       "      <td>36</td>\n",
       "      <td>28</td>\n",
       "    </tr>\n",
       "    <tr>\n",
       "      <th>5</th>\n",
       "      <td>Carabanchel</td>\n",
       "      <td>35</td>\n",
       "      <td>8</td>\n",
       "    </tr>\n",
       "    <tr>\n",
       "      <th>6</th>\n",
       "      <td>Moncloa - Aravaca</td>\n",
       "      <td>33</td>\n",
       "      <td>13</td>\n",
       "    </tr>\n",
       "    <tr>\n",
       "      <th>7</th>\n",
       "      <td>Hortaleza</td>\n",
       "      <td>31</td>\n",
       "      <td>13</td>\n",
       "    </tr>\n",
       "    <tr>\n",
       "      <th>8</th>\n",
       "      <td>Latina</td>\n",
       "      <td>31</td>\n",
       "      <td>7</td>\n",
       "    </tr>\n",
       "    <tr>\n",
       "      <th>9</th>\n",
       "      <td>Ciudad Lineal</td>\n",
       "      <td>31</td>\n",
       "      <td>11</td>\n",
       "    </tr>\n",
       "    <tr>\n",
       "      <th>10</th>\n",
       "      <td>Chamberí</td>\n",
       "      <td>29</td>\n",
       "      <td>17</td>\n",
       "    </tr>\n",
       "    <tr>\n",
       "      <th>11</th>\n",
       "      <td>Retiro</td>\n",
       "      <td>29</td>\n",
       "      <td>8</td>\n",
       "    </tr>\n",
       "    <tr>\n",
       "      <th>12</th>\n",
       "      <td>San Blas - Canillejas</td>\n",
       "      <td>27</td>\n",
       "      <td>5</td>\n",
       "    </tr>\n",
       "    <tr>\n",
       "      <th>13</th>\n",
       "      <td>Puente de Vallecas</td>\n",
       "      <td>25</td>\n",
       "      <td>4</td>\n",
       "    </tr>\n",
       "    <tr>\n",
       "      <th>14</th>\n",
       "      <td>Tetuán</td>\n",
       "      <td>23</td>\n",
       "      <td>13</td>\n",
       "    </tr>\n",
       "    <tr>\n",
       "      <th>15</th>\n",
       "      <td>Villa de Vallecas</td>\n",
       "      <td>18</td>\n",
       "      <td>5</td>\n",
       "    </tr>\n",
       "    <tr>\n",
       "      <th>16</th>\n",
       "      <td>Villaverde</td>\n",
       "      <td>18</td>\n",
       "      <td>3</td>\n",
       "    </tr>\n",
       "    <tr>\n",
       "      <th>17</th>\n",
       "      <td>Usera</td>\n",
       "      <td>17</td>\n",
       "      <td>3</td>\n",
       "    </tr>\n",
       "    <tr>\n",
       "      <th>18</th>\n",
       "      <td>Barajas</td>\n",
       "      <td>16</td>\n",
       "      <td>7</td>\n",
       "    </tr>\n",
       "    <tr>\n",
       "      <th>19</th>\n",
       "      <td>Vicálvaro</td>\n",
       "      <td>14</td>\n",
       "      <td>4</td>\n",
       "    </tr>\n",
       "    <tr>\n",
       "      <th>20</th>\n",
       "      <td>Moratalaz</td>\n",
       "      <td>11</td>\n",
       "      <td>3</td>\n",
       "    </tr>\n",
       "  </tbody>\n",
       "</table>\n",
       "</div>"
      ],
      "text/plain": [
       "                 distrito  count_x  count_y\n",
       "0                  Centro       61       39\n",
       "1   Fuencarral - El Pardo       43       13\n",
       "2               Salamanca       42       30\n",
       "3              Arganzuela       39        6\n",
       "4               Chamartín       36       28\n",
       "5             Carabanchel       35        8\n",
       "6       Moncloa - Aravaca       33       13\n",
       "7               Hortaleza       31       13\n",
       "8                  Latina       31        7\n",
       "9           Ciudad Lineal       31       11\n",
       "10               Chamberí       29       17\n",
       "11                 Retiro       29        8\n",
       "12  San Blas - Canillejas       27        5\n",
       "13     Puente de Vallecas       25        4\n",
       "14                 Tetuán       23       13\n",
       "15      Villa de Vallecas       18        5\n",
       "16             Villaverde       18        3\n",
       "17                  Usera       17        3\n",
       "18                Barajas       16        7\n",
       "19              Vicálvaro       14        4\n",
       "20              Moratalaz       11        3"
      ]
     },
     "execution_count": 164,
     "metadata": {},
     "output_type": "execute_result"
    }
   ],
   "source": [
    "result"
   ]
  },
  {
   "cell_type": "code",
   "execution_count": 9,
   "id": "e6646765",
   "metadata": {},
   "outputs": [],
   "source": [
    "def num_estaciones_por_distrito(df_con_distrito):\n",
    "    df_estaciones_por_distrito=df_con_distrito['distrito'].value_counts().reset_index()\n",
    "    return df_estaciones_por_distrito"
   ]
  },
  {
   "cell_type": "code",
   "execution_count": 10,
   "id": "98874832",
   "metadata": {},
   "outputs": [
    {
     "ename": "NameError",
     "evalue": "name 'df_con_distrito' is not defined",
     "output_type": "error",
     "traceback": [
      "\u001b[1;31m---------------------------------------------------------------------------\u001b[0m",
      "\u001b[1;31mNameError\u001b[0m                                 Traceback (most recent call last)",
      "Cell \u001b[1;32mIn[10], line 1\u001b[0m\n\u001b[1;32m----> 1\u001b[0m df_estaciones_por_distrito\u001b[38;5;241m=\u001b[39mnum_estaciones_por_distrito(df_con_distrito)\n",
      "\u001b[1;31mNameError\u001b[0m: name 'df_con_distrito' is not defined"
     ]
    }
   ],
   "source": [
    "df_estaciones_por_distrito=num_estaciones_por_distrito(df_con_distrito)"
   ]
  },
  {
   "cell_type": "code",
   "execution_count": 192,
   "id": "e5fe79ce",
   "metadata": {},
   "outputs": [
    {
     "data": {
      "text/plain": [
       "''"
      ]
     },
     "execution_count": 192,
     "metadata": {},
     "output_type": "execute_result"
    }
   ],
   "source": [
    "hola='Ocupacion baja'\n",
    "hola.split(' ')[1][:0]"
   ]
  },
  {
   "cell_type": "code",
   "execution_count": null,
   "id": "dc8fe420",
   "metadata": {},
   "outputs": [],
   "source": [
    "\n",
    "df_estaciones_por_distrito = df_estaciones_por_distrito.rename(columns={'Count': 'Cantidad_estaciones'})"
   ]
  },
  {
   "cell_type": "code",
   "execution_count": 178,
   "id": "86070876",
   "metadata": {},
   "outputs": [],
   "source": [
    "def distrito_nivel_ocupacion(df_distrito,opcion,filtro=0):    \n",
    "    low=df_distrito.loc[df_distrito['light']==filtro]['distrito'].value_counts().reset_index().rename(columns={'count': 'light'})\n",
    "    result=(df_distrito['distrito'].value_counts().reset_index()).merge(low,on='distrito')\n",
    "    result['porcentaje']=result['light']/result['count']\n",
    "    if opcion=='max':\n",
    "        return result.loc[result['porcentaje']==result['porcentaje'].max()][['distrito','porcentaje']]\n",
    "    else:\n",
    "        return result.loc[result['porcentaje']==result['porcentaje'].min()][['distrito','porcentaje']]"
   ]
  }
 ],
 "metadata": {
  "kernelspec": {
   "display_name": "Python 3 (ipykernel)",
   "language": "python",
   "name": "python3"
  },
  "language_info": {
   "codemirror_mode": {
    "name": "ipython",
    "version": 3
   },
   "file_extension": ".py",
   "mimetype": "text/x-python",
   "name": "python",
   "nbconvert_exporter": "python",
   "pygments_lexer": "ipython3",
   "version": "3.11.5"
  }
 },
 "nbformat": 4,
 "nbformat_minor": 5
}
